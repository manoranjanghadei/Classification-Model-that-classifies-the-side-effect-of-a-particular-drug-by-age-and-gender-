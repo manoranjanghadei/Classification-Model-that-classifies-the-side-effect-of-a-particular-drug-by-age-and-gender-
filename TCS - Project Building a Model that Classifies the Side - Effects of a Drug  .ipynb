{
 "cells": [
  {
   "cell_type": "markdown",
   "metadata": {},
   "source": [
    "# Building a Model that Classifies the Side - Effects of a Drug"
   ]
  },
  {
   "cell_type": "markdown",
   "metadata": {},
   "source": [
    "**Objective Of This Project**<br> <br>\n",
    "Is to build a classification model that classifies the side effects of a particular drug by age, gender and race"
   ]
  },
  {
   "cell_type": "markdown",
   "metadata": {},
   "source": [
    "## Loading Important Libraries"
   ]
  },
  {
   "cell_type": "code",
   "execution_count": 1,
   "metadata": {},
   "outputs": [
    {
     "name": "stderr",
     "output_type": "stream",
     "text": [
      "D:\\Python\\lib\\site-packages\\IPython\\html.py:12: ShimWarning: The `IPython.html` package has been deprecated since IPython 4.0. You should import from `notebook` instead. `IPython.html.widgets` has moved to `ipywidgets`.\n",
      "  warn(\"The `IPython.html` package has been deprecated since IPython 4.0. \"\n"
     ]
    }
   ],
   "source": [
    "import pandas as pd\n",
    "import matplotlib.pyplot as plt\n",
    "import seaborn as sns\n",
    "import numpy as np\n",
    "import pandas as pd\n",
    "from nltk.corpus import stopwords\n",
    "pd.options.mode.chained_assignment = None  # default='warn'\n",
    "from IPython.html import widgets\n",
    "from IPython.display import display\n",
    "from collections import OrderedDict\n",
    "from textblob import TextBlob\n",
    "from sklearn.preprocessing import LabelEncoder #One hot encoding for Categorical variables\n",
    "from sklearn.linear_model import LogisticRegression\n",
    "from sklearn.model_selection import train_test_split # splitting the data\n",
    "from sklearn.metrics import accuracy_score # model precision\n",
    "import matplotlib.pyplot as plt # visualization\n",
    "from matplotlib import rcParams # figure size\n",
    "from termcolor import colored as cl # text customization\n",
    "from sklearn.metrics import accuracy_score, classification_report, precision_score, recall_score \n",
    "from sklearn.metrics import confusion_matrix, precision_recall_curve, roc_curve, auc, log_loss\n",
    "from collections import Counter\n",
    "import re\n",
    "import string"
   ]
  },
  {
   "cell_type": "markdown",
   "metadata": {},
   "source": [
    "## Importing DataSet - \"webmd\""
   ]
  },
  {
   "cell_type": "code",
   "execution_count": 2,
   "metadata": {},
   "outputs": [],
   "source": [
    "df = pd.read_csv(\"D:\\TCS project\\Data sets\\webmd.csv\") "
   ]
  },
  {
   "cell_type": "markdown",
   "metadata": {},
   "source": [
    "## Checking Columns name present in the DataSet"
   ]
  },
  {
   "cell_type": "code",
   "execution_count": 3,
   "metadata": {},
   "outputs": [
    {
     "data": {
      "text/plain": [
       "Index(['Age', 'Condition', 'Date', 'Drug', 'DrugId', 'EaseofUse',\n",
       "       'Effectiveness', 'Reviews', 'Satisfaction', 'Sex', 'Sides',\n",
       "       'UsefulCount'],\n",
       "      dtype='object')"
      ]
     },
     "execution_count": 3,
     "metadata": {},
     "output_type": "execute_result"
    }
   ],
   "source": [
    "df.columns"
   ]
  },
  {
   "cell_type": "markdown",
   "metadata": {},
   "source": [
    "## About this DataSet"
   ]
  },
  {
   "cell_type": "markdown",
   "metadata": {},
   "source": [
    "<br> 1. **Drug (categorical):** name of drug\n",
    "<br> 2. **DrugId (numerical):** drug id\n",
    "<br> 3. **Condition (categorical):** name of condition\n",
    "<br> 4. **Review (text):** patient review\n",
    "<br> 5. **Side (text):** side effects associated with drug (if any)\n",
    "<br> 6. **EaseOfUse (numerical):** 5 star rating\n",
    "<br> 7. **Effectiveness (numerical):** 5 star rating\n",
    "<br> 8. **Satisfaction (numerical):** 5 star rating\n",
    "<br> 9. **Date (date):** date of review entry\n",
    "<br> 10. **UsefulCount (numerical):** number of users who found review useful.\n",
    "<br> 11. **Age (numerical):** age group range of user\n",
    "<br> 12. **Sex (categorical):** gender of user"
   ]
  },
  {
   "cell_type": "markdown",
   "metadata": {},
   "source": [
    "## Cleaning the Data"
   ]
  },
  {
   "cell_type": "markdown",
   "metadata": {},
   "source": [
    "By going through the DataSet we can observe that there are empty values/empty string present in the Review and Sides Columns. So we are gonna convert the empty value/empty string into np.nan object and then remove them"
   ]
  },
  {
   "cell_type": "code",
   "execution_count": 4,
   "metadata": {
    "scrolled": true
   },
   "outputs": [
    {
     "data": {
      "text/html": [
       "<div>\n",
       "<style scoped>\n",
       "    .dataframe tbody tr th:only-of-type {\n",
       "        vertical-align: middle;\n",
       "    }\n",
       "\n",
       "    .dataframe tbody tr th {\n",
       "        vertical-align: top;\n",
       "    }\n",
       "\n",
       "    .dataframe thead th {\n",
       "        text-align: right;\n",
       "    }\n",
       "</style>\n",
       "<table border=\"1\" class=\"dataframe\">\n",
       "  <thead>\n",
       "    <tr style=\"text-align: right;\">\n",
       "      <th></th>\n",
       "      <th>Age</th>\n",
       "      <th>Condition</th>\n",
       "      <th>Date</th>\n",
       "      <th>Drug</th>\n",
       "      <th>DrugId</th>\n",
       "      <th>EaseofUse</th>\n",
       "      <th>Effectiveness</th>\n",
       "      <th>Reviews</th>\n",
       "      <th>Satisfaction</th>\n",
       "      <th>Sex</th>\n",
       "      <th>Sides</th>\n",
       "      <th>UsefulCount</th>\n",
       "    </tr>\n",
       "  </thead>\n",
       "  <tbody>\n",
       "    <tr>\n",
       "      <th>0</th>\n",
       "      <td>75 or over</td>\n",
       "      <td>Stuffy Nose</td>\n",
       "      <td>9/21/2014</td>\n",
       "      <td>25dph-7.5peh</td>\n",
       "      <td>146724</td>\n",
       "      <td>5</td>\n",
       "      <td>5</td>\n",
       "      <td>I'm a retired physician and of all the meds I ...</td>\n",
       "      <td>5</td>\n",
       "      <td>Male</td>\n",
       "      <td>Drowsiness,  dizziness ,  dry mouth /nose/thro...</td>\n",
       "      <td>0</td>\n",
       "    </tr>\n",
       "    <tr>\n",
       "      <th>1</th>\n",
       "      <td>25-34</td>\n",
       "      <td>Cold Symptoms</td>\n",
       "      <td>1/13/2011</td>\n",
       "      <td>25dph-7.5peh</td>\n",
       "      <td>146724</td>\n",
       "      <td>5</td>\n",
       "      <td>5</td>\n",
       "      <td>cleared me right up even with my throat hurtin...</td>\n",
       "      <td>5</td>\n",
       "      <td>Female</td>\n",
       "      <td>Drowsiness,  dizziness ,  dry mouth /nose/thro...</td>\n",
       "      <td>1</td>\n",
       "    </tr>\n",
       "    <tr>\n",
       "      <th>2</th>\n",
       "      <td>65-74</td>\n",
       "      <td>Other</td>\n",
       "      <td>7/16/2012</td>\n",
       "      <td>warfarin (bulk) 100 % powder</td>\n",
       "      <td>144731</td>\n",
       "      <td>2</td>\n",
       "      <td>3</td>\n",
       "      <td>why did my PTINR go from a normal of 2.5 to ov...</td>\n",
       "      <td>3</td>\n",
       "      <td>Female</td>\n",
       "      <td></td>\n",
       "      <td>0</td>\n",
       "    </tr>\n",
       "    <tr>\n",
       "      <th>3</th>\n",
       "      <td>75 or over</td>\n",
       "      <td>Other</td>\n",
       "      <td>9/23/2010</td>\n",
       "      <td>warfarin (bulk) 100 % powder</td>\n",
       "      <td>144731</td>\n",
       "      <td>2</td>\n",
       "      <td>2</td>\n",
       "      <td>FALLING AND DON'T REALISE IT</td>\n",
       "      <td>1</td>\n",
       "      <td>Female</td>\n",
       "      <td></td>\n",
       "      <td>0</td>\n",
       "    </tr>\n",
       "    <tr>\n",
       "      <th>4</th>\n",
       "      <td>35-44</td>\n",
       "      <td>Other</td>\n",
       "      <td>1/6/2009</td>\n",
       "      <td>warfarin (bulk) 100 % powder</td>\n",
       "      <td>144731</td>\n",
       "      <td>1</td>\n",
       "      <td>1</td>\n",
       "      <td>My grandfather was prescribed this medication ...</td>\n",
       "      <td>1</td>\n",
       "      <td>Male</td>\n",
       "      <td></td>\n",
       "      <td>1</td>\n",
       "    </tr>\n",
       "    <tr>\n",
       "      <th>5</th>\n",
       "      <td>55-64</td>\n",
       "      <td>Other</td>\n",
       "      <td>7/19/2008</td>\n",
       "      <td>warfarin (bulk) 100 % powder</td>\n",
       "      <td>144731</td>\n",
       "      <td>4</td>\n",
       "      <td>4</td>\n",
       "      <td>help heart condition operation well</td>\n",
       "      <td>4</td>\n",
       "      <td>Male</td>\n",
       "      <td></td>\n",
       "      <td>0</td>\n",
       "    </tr>\n",
       "    <tr>\n",
       "      <th>6</th>\n",
       "      <td>25-34</td>\n",
       "      <td>Birth Control</td>\n",
       "      <td>6/15/2017</td>\n",
       "      <td>wymzya fe</td>\n",
       "      <td>163180</td>\n",
       "      <td>5</td>\n",
       "      <td>5</td>\n",
       "      <td>Haven't gotten pregnant so it does it's job. I...</td>\n",
       "      <td>2</td>\n",
       "      <td>Female</td>\n",
       "      <td>Nausea ,  vomiting ,  headache ,  bloating ,  ...</td>\n",
       "      <td>0</td>\n",
       "    </tr>\n",
       "    <tr>\n",
       "      <th>7</th>\n",
       "      <td>45-54</td>\n",
       "      <td>Disease of Ovaries with Cysts</td>\n",
       "      <td>1/30/2017</td>\n",
       "      <td>wymzya fe</td>\n",
       "      <td>163180</td>\n",
       "      <td>5</td>\n",
       "      <td>5</td>\n",
       "      <td>I have take this for 5 years age 45-50 to prev...</td>\n",
       "      <td>5</td>\n",
       "      <td>Female</td>\n",
       "      <td>Nausea ,  vomiting ,  headache ,  bloating ,  ...</td>\n",
       "      <td>0</td>\n",
       "    </tr>\n",
       "    <tr>\n",
       "      <th>8</th>\n",
       "      <td>25-34</td>\n",
       "      <td>Acne</td>\n",
       "      <td>4/27/2016</td>\n",
       "      <td>wymzya fe</td>\n",
       "      <td>163180</td>\n",
       "      <td>4</td>\n",
       "      <td>2</td>\n",
       "      <td></td>\n",
       "      <td>2</td>\n",
       "      <td>Female</td>\n",
       "      <td>Nausea ,  vomiting ,  headache ,  bloating ,  ...</td>\n",
       "      <td>1</td>\n",
       "    </tr>\n",
       "    <tr>\n",
       "      <th>9</th>\n",
       "      <td>55-64</td>\n",
       "      <td>Stuffy Nose</td>\n",
       "      <td>10/29/2012</td>\n",
       "      <td>12 hour nasal relief spray, non-aerosol</td>\n",
       "      <td>9800</td>\n",
       "      <td>4</td>\n",
       "      <td>2</td>\n",
       "      <td>The 12 hour spray only works for me for 6 hours.</td>\n",
       "      <td>2</td>\n",
       "      <td>Male</td>\n",
       "      <td>Temporary burning, stinging, dryness in the no...</td>\n",
       "      <td>0</td>\n",
       "    </tr>\n",
       "  </tbody>\n",
       "</table>\n",
       "</div>"
      ],
      "text/plain": [
       "          Age                      Condition        Date  \\\n",
       "0  75 or over                    Stuffy Nose   9/21/2014   \n",
       "1       25-34                  Cold Symptoms   1/13/2011   \n",
       "2       65-74                          Other   7/16/2012   \n",
       "3  75 or over                          Other   9/23/2010   \n",
       "4       35-44                          Other    1/6/2009   \n",
       "5       55-64                          Other   7/19/2008   \n",
       "6       25-34                  Birth Control   6/15/2017   \n",
       "7       45-54  Disease of Ovaries with Cysts   1/30/2017   \n",
       "8       25-34                           Acne   4/27/2016   \n",
       "9       55-64                    Stuffy Nose  10/29/2012   \n",
       "\n",
       "                                      Drug  DrugId  EaseofUse  Effectiveness  \\\n",
       "0                             25dph-7.5peh  146724          5              5   \n",
       "1                             25dph-7.5peh  146724          5              5   \n",
       "2             warfarin (bulk) 100 % powder  144731          2              3   \n",
       "3             warfarin (bulk) 100 % powder  144731          2              2   \n",
       "4             warfarin (bulk) 100 % powder  144731          1              1   \n",
       "5             warfarin (bulk) 100 % powder  144731          4              4   \n",
       "6                                wymzya fe  163180          5              5   \n",
       "7                                wymzya fe  163180          5              5   \n",
       "8                                wymzya fe  163180          4              2   \n",
       "9  12 hour nasal relief spray, non-aerosol    9800          4              2   \n",
       "\n",
       "                                             Reviews  Satisfaction     Sex  \\\n",
       "0  I'm a retired physician and of all the meds I ...             5    Male   \n",
       "1  cleared me right up even with my throat hurtin...             5  Female   \n",
       "2  why did my PTINR go from a normal of 2.5 to ov...             3  Female   \n",
       "3                       FALLING AND DON'T REALISE IT             1  Female   \n",
       "4  My grandfather was prescribed this medication ...             1    Male   \n",
       "5                help heart condition operation well             4    Male   \n",
       "6  Haven't gotten pregnant so it does it's job. I...             2  Female   \n",
       "7  I have take this for 5 years age 45-50 to prev...             5  Female   \n",
       "8                                                                2  Female   \n",
       "9   The 12 hour spray only works for me for 6 hours.             2    Male   \n",
       "\n",
       "                                               Sides  UsefulCount  \n",
       "0  Drowsiness,  dizziness ,  dry mouth /nose/thro...            0  \n",
       "1  Drowsiness,  dizziness ,  dry mouth /nose/thro...            1  \n",
       "2                                                               0  \n",
       "3                                                               0  \n",
       "4                                                               1  \n",
       "5                                                               0  \n",
       "6  Nausea ,  vomiting ,  headache ,  bloating ,  ...            0  \n",
       "7  Nausea ,  vomiting ,  headache ,  bloating ,  ...            0  \n",
       "8  Nausea ,  vomiting ,  headache ,  bloating ,  ...            1  \n",
       "9  Temporary burning, stinging, dryness in the no...            0  "
      ]
     },
     "execution_count": 4,
     "metadata": {},
     "output_type": "execute_result"
    }
   ],
   "source": [
    "df.head(10)"
   ]
  },
  {
   "cell_type": "markdown",
   "metadata": {},
   "source": [
    "Cleaning the 'Review' and 'Sides' part from the columns is carried out to make data more readable and less redundant."
   ]
  },
  {
   "cell_type": "markdown",
   "metadata": {},
   "source": [
    "Cleaning the 'Review' and 'Sides' part from the columns is carried out to make data more readable and less redundant."
   ]
  },
  {
   "cell_type": "code",
   "execution_count": 5,
   "metadata": {},
   "outputs": [],
   "source": [
    "df['Reviews'].replace(' ', np.nan, inplace=True)"
   ]
  },
  {
   "cell_type": "code",
   "execution_count": 6,
   "metadata": {},
   "outputs": [
    {
     "data": {
      "text/plain": [
       "41861"
      ]
     },
     "execution_count": 6,
     "metadata": {},
     "output_type": "execute_result"
    }
   ],
   "source": [
    "df['Reviews'].isnull().sum()"
   ]
  },
  {
   "cell_type": "markdown",
   "metadata": {},
   "source": [
    "Next we are gonna replace all the empty strings in the \"Reviews\" column with np.nan objects in the following manner"
   ]
  },
  {
   "cell_type": "code",
   "execution_count": 7,
   "metadata": {},
   "outputs": [],
   "source": [
    "df['Sides'].replace(' ', np.nan, inplace=True)"
   ]
  },
  {
   "cell_type": "code",
   "execution_count": 8,
   "metadata": {},
   "outputs": [
    {
     "data": {
      "text/plain": [
       "17460"
      ]
     },
     "execution_count": 8,
     "metadata": {},
     "output_type": "execute_result"
    }
   ],
   "source": [
    "df['Sides'].isnull().sum()"
   ]
  },
  {
   "cell_type": "markdown",
   "metadata": {},
   "source": [
    "Next we are gonna replace all the empty strings in the \"Sides\" column with np.nan objects in the following manner"
   ]
  },
  {
   "cell_type": "markdown",
   "metadata": {},
   "source": [
    "Now we are gonna remove all the records which had no value in their \"Reviews\" Column"
   ]
  },
  {
   "cell_type": "code",
   "execution_count": 9,
   "metadata": {},
   "outputs": [],
   "source": [
    "df.dropna(subset=['Reviews'], inplace=True)"
   ]
  },
  {
   "cell_type": "markdown",
   "metadata": {},
   "source": [
    "Now we are gonna remove all the records which had no value in their \"Reviews\" Column"
   ]
  },
  {
   "cell_type": "code",
   "execution_count": 10,
   "metadata": {},
   "outputs": [],
   "source": [
    "df.dropna(subset=['Sides'], inplace=True)"
   ]
  },
  {
   "cell_type": "code",
   "execution_count": 11,
   "metadata": {},
   "outputs": [
    {
     "data": {
      "text/plain": [
       "0"
      ]
     },
     "execution_count": 11,
     "metadata": {},
     "output_type": "execute_result"
    }
   ],
   "source": [
    "df['Reviews'].isnull().sum()"
   ]
  },
  {
   "cell_type": "code",
   "execution_count": 12,
   "metadata": {},
   "outputs": [
    {
     "data": {
      "text/plain": [
       "0"
      ]
     },
     "execution_count": 12,
     "metadata": {},
     "output_type": "execute_result"
    }
   ],
   "source": [
    "df['Sides'].isnull().sum()"
   ]
  },
  {
   "cell_type": "markdown",
   "metadata": {},
   "source": [
    "## Determining if the DataFrame still contains any Null-Values or Not"
   ]
  },
  {
   "cell_type": "code",
   "execution_count": 13,
   "metadata": {},
   "outputs": [
    {
     "data": {
      "text/plain": [
       "False"
      ]
     },
     "execution_count": 13,
     "metadata": {},
     "output_type": "execute_result"
    }
   ],
   "source": [
    "df.isnull().values.any()"
   ]
  },
  {
   "cell_type": "markdown",
   "metadata": {},
   "source": [
    "Since there are no more null-values present in the dataset therefore we can proceed with Exploratory Data Analysis. "
   ]
  },
  {
   "cell_type": "markdown",
   "metadata": {},
   "source": [
    "_______________________________________________________________________________________________________________________________"
   ]
  },
  {
   "cell_type": "markdown",
   "metadata": {},
   "source": [
    "## Removing Empty Strings from the column \"Sex\""
   ]
  },
  {
   "cell_type": "markdown",
   "metadata": {},
   "source": [
    "We are gonna check if the \"Sex\" column has any empty strings/ Empty values"
   ]
  },
  {
   "cell_type": "code",
   "execution_count": 14,
   "metadata": {},
   "outputs": [
    {
     "name": "stdout",
     "output_type": "stream",
     "text": [
      "Female    205842\n",
      "Male       78138\n",
      "           21367\n",
      "Name: Sex, dtype: int64\n"
     ]
    }
   ],
   "source": [
    "print(df[\"Sex\"].value_counts())"
   ]
  },
  {
   "cell_type": "markdown",
   "metadata": {},
   "source": [
    "Here we can see in below that \"Sex\" column have values (21367) which have not been categorised."
   ]
  },
  {
   "cell_type": "markdown",
   "metadata": {},
   "source": [
    "Pandas will recognise a value as null if it is a np.nan object, which will print as NaN in the DataFrame. But the missing values are probably empty strings, which Pandas doesn't recognise as null. To fix this, We can convert the empty stings (or whatever is in the empty cells) to np.nan objects using replace(), and then call dropna()on your DataFrame to delete rows with null values present in the \"Sex\" column.<br><br>\n",
    "Therefore we will replace all the empty strings in the Sex column with np.nan objects.\n",
    "\n"
   ]
  },
  {
   "cell_type": "code",
   "execution_count": 15,
   "metadata": {},
   "outputs": [],
   "source": [
    "df['Sex'].replace(' ', np.nan, inplace=True)"
   ]
  },
  {
   "cell_type": "code",
   "execution_count": 16,
   "metadata": {},
   "outputs": [
    {
     "data": {
      "text/plain": [
       "21367"
      ]
     },
     "execution_count": 16,
     "metadata": {},
     "output_type": "execute_result"
    }
   ],
   "source": [
    "df['Sex'].isnull().sum()"
   ]
  },
  {
   "cell_type": "markdown",
   "metadata": {},
   "source": [
    "Now we will drop all the null values present in the \"Sex\" column."
   ]
  },
  {
   "cell_type": "code",
   "execution_count": 17,
   "metadata": {},
   "outputs": [],
   "source": [
    "df.dropna(subset=['Sex'], inplace=True)"
   ]
  },
  {
   "cell_type": "markdown",
   "metadata": {},
   "source": [
    "All the null values have been removed that were present in the form of empty string/ empty cells in \"Sex\" column."
   ]
  },
  {
   "cell_type": "code",
   "execution_count": 18,
   "metadata": {},
   "outputs": [
    {
     "name": "stdout",
     "output_type": "stream",
     "text": [
      "Female    205842\n",
      "Male       78138\n",
      "Name: Sex, dtype: int64\n"
     ]
    }
   ],
   "source": [
    "print(df[\"Sex\"].value_counts())"
   ]
  },
  {
   "cell_type": "markdown",
   "metadata": {},
   "source": [
    "So now we can see all the values which had no category have been removed from the column \"Sex\""
   ]
  },
  {
   "cell_type": "markdown",
   "metadata": {},
   "source": [
    "_______________________________________________________________________________________________________________________________"
   ]
  },
  {
   "cell_type": "markdown",
   "metadata": {},
   "source": [
    "## Removing Empty Strings from the column \"Age\""
   ]
  },
  {
   "cell_type": "markdown",
   "metadata": {},
   "source": [
    "We are now gonna check if the column \"Age\" has empty strings or not"
   ]
  },
  {
   "cell_type": "code",
   "execution_count": 19,
   "metadata": {},
   "outputs": [
    {
     "data": {
      "text/plain": [
       "45-54         64129\n",
       "55-64         57473\n",
       "35-44         45476\n",
       "25-34         42800\n",
       "65-74         29986\n",
       "19-24         21236\n",
       "75 or over    10730\n",
       "13-18          5975\n",
       "               3825\n",
       "7-12           1334\n",
       "3-6             623\n",
       "0-2             393\n",
       "Name: Age, dtype: int64"
      ]
     },
     "execution_count": 19,
     "metadata": {},
     "output_type": "execute_result"
    }
   ],
   "source": [
    "df.Age.value_counts()"
   ]
  },
  {
   "cell_type": "markdown",
   "metadata": {},
   "source": [
    "Here we can observe the same issue that the column \"Age\" has empty values/empty string (5975, 3825). Therefore we are gonna convert these empty values into 'np.nan' objects"
   ]
  },
  {
   "cell_type": "code",
   "execution_count": 20,
   "metadata": {},
   "outputs": [],
   "source": [
    "df['Age'].replace(' ', np.nan, inplace=True)"
   ]
  },
  {
   "cell_type": "markdown",
   "metadata": {},
   "source": [
    "Now we can drop the null values present in the \"Age\" column"
   ]
  },
  {
   "cell_type": "code",
   "execution_count": 21,
   "metadata": {},
   "outputs": [],
   "source": [
    "df.dropna(subset=['Age'], inplace=True)"
   ]
  },
  {
   "cell_type": "code",
   "execution_count": 22,
   "metadata": {},
   "outputs": [
    {
     "data": {
      "text/plain": [
       "45-54         64129\n",
       "55-64         57473\n",
       "35-44         45476\n",
       "25-34         42800\n",
       "65-74         29986\n",
       "19-24         21236\n",
       "75 or over    10730\n",
       "13-18          5975\n",
       "7-12           1334\n",
       "3-6             623\n",
       "0-2             393\n",
       "Name: Age, dtype: int64"
      ]
     },
     "execution_count": 22,
     "metadata": {},
     "output_type": "execute_result"
    }
   ],
   "source": [
    "df.Age.value_counts()"
   ]
  },
  {
   "cell_type": "markdown",
   "metadata": {},
   "source": [
    "So now we can see all the values which had no category have been removed from the column \"Age\""
   ]
  },
  {
   "cell_type": "markdown",
   "metadata": {},
   "source": [
    "**For easy convetion we gonna categorise each age group as numbers and store them in new column \"Age_Group_Number\" in the following manner**"
   ]
  },
  {
   "cell_type": "markdown",
   "metadata": {},
   "source": [
    "**Age<br><br>\n",
    "0-2         > 1<br>\n",
    "3-6         > 2<br>\n",
    "7-12        > 3<br>\n",
    "13-18       > 4<br>\n",
    "19-24       > 5<br>\n",
    "25-34       > 6<br>\n",
    "35-44       > 7<br>\n",
    "45-54       > 8<br>\n",
    "55-64       > 9<br>\n",
    "65-74       > 10<br>\n",
    "75 or over  > 11<br>**"
   ]
  },
  {
   "cell_type": "code",
   "execution_count": 23,
   "metadata": {},
   "outputs": [],
   "source": [
    "def age_fun(df):\n",
    "    if df['Age'] == '0-2':\n",
    "        return 1\n",
    "    elif df['Age'] == '13-18':\n",
    "        return 4\n",
    "    elif df['Age'] == '19-24':\n",
    "        return 5\n",
    "    elif df['Age'] == '25-34':\n",
    "        return 6\n",
    "    elif df['Age'] == '3-6':\n",
    "        return 2\n",
    "    elif df['Age'] == '35-44':\n",
    "        return 7\n",
    "    elif df['Age'] == '45-54':\n",
    "        return 8\n",
    "    elif df['Age'] == '55-64':\n",
    "        return 9\n",
    "    elif df['Age'] == '65-74':\n",
    "        return 10\n",
    "    elif df['Age'] == '7-12':\n",
    "        return 3\n",
    "    elif df['Age'] == '75 or over':\n",
    "        return 11"
   ]
  },
  {
   "cell_type": "code",
   "execution_count": 24,
   "metadata": {},
   "outputs": [],
   "source": [
    "df['Age_Group_number'] = df.apply(age_fun, axis = 1)"
   ]
  },
  {
   "cell_type": "code",
   "execution_count": 25,
   "metadata": {
    "scrolled": true
   },
   "outputs": [
    {
     "data": {
      "text/html": [
       "<div>\n",
       "<style scoped>\n",
       "    .dataframe tbody tr th:only-of-type {\n",
       "        vertical-align: middle;\n",
       "    }\n",
       "\n",
       "    .dataframe tbody tr th {\n",
       "        vertical-align: top;\n",
       "    }\n",
       "\n",
       "    .dataframe thead th {\n",
       "        text-align: right;\n",
       "    }\n",
       "</style>\n",
       "<table border=\"1\" class=\"dataframe\">\n",
       "  <thead>\n",
       "    <tr style=\"text-align: right;\">\n",
       "      <th></th>\n",
       "      <th>Age</th>\n",
       "      <th>Condition</th>\n",
       "      <th>Date</th>\n",
       "      <th>Drug</th>\n",
       "      <th>DrugId</th>\n",
       "      <th>EaseofUse</th>\n",
       "      <th>Effectiveness</th>\n",
       "      <th>Reviews</th>\n",
       "      <th>Satisfaction</th>\n",
       "      <th>Sex</th>\n",
       "      <th>Sides</th>\n",
       "      <th>UsefulCount</th>\n",
       "      <th>Age_Group_number</th>\n",
       "    </tr>\n",
       "  </thead>\n",
       "  <tbody>\n",
       "    <tr>\n",
       "      <th>0</th>\n",
       "      <td>75 or over</td>\n",
       "      <td>Stuffy Nose</td>\n",
       "      <td>9/21/2014</td>\n",
       "      <td>25dph-7.5peh</td>\n",
       "      <td>146724</td>\n",
       "      <td>5</td>\n",
       "      <td>5</td>\n",
       "      <td>I'm a retired physician and of all the meds I ...</td>\n",
       "      <td>5</td>\n",
       "      <td>Male</td>\n",
       "      <td>Drowsiness,  dizziness ,  dry mouth /nose/thro...</td>\n",
       "      <td>0</td>\n",
       "      <td>11</td>\n",
       "    </tr>\n",
       "  </tbody>\n",
       "</table>\n",
       "</div>"
      ],
      "text/plain": [
       "          Age    Condition       Date          Drug  DrugId  EaseofUse  \\\n",
       "0  75 or over  Stuffy Nose  9/21/2014  25dph-7.5peh  146724          5   \n",
       "\n",
       "   Effectiveness                                            Reviews  \\\n",
       "0              5  I'm a retired physician and of all the meds I ...   \n",
       "\n",
       "   Satisfaction   Sex                                              Sides  \\\n",
       "0             5  Male  Drowsiness,  dizziness ,  dry mouth /nose/thro...   \n",
       "\n",
       "   UsefulCount  Age_Group_number  \n",
       "0            0                11  "
      ]
     },
     "execution_count": 25,
     "metadata": {},
     "output_type": "execute_result"
    }
   ],
   "source": [
    "df.head(1)"
   ]
  },
  {
   "cell_type": "markdown",
   "metadata": {},
   "source": [
    "  "
   ]
  },
  {
   "cell_type": "markdown",
   "metadata": {},
   "source": [
    "_______________________________________________________________________________________________________________________________"
   ]
  },
  {
   "cell_type": "markdown",
   "metadata": {},
   "source": [
    "## \"Effectiveness\" column contains rating value from 1 to 5, Therefore values that indicates rating of 6 will be removed in order to get a clean Data Set"
   ]
  },
  {
   "cell_type": "code",
   "execution_count": 26,
   "metadata": {},
   "outputs": [
    {
     "data": {
      "text/plain": [
       "5    101860\n",
       "4     62305\n",
       "1     47150\n",
       "3     45180\n",
       "2     23658\n",
       "6         2\n",
       "Name: Effectiveness, dtype: int64"
      ]
     },
     "execution_count": 26,
     "metadata": {},
     "output_type": "execute_result"
    }
   ],
   "source": [
    "df.Effectiveness.value_counts()"
   ]
  },
  {
   "cell_type": "code",
   "execution_count": 27,
   "metadata": {},
   "outputs": [],
   "source": [
    "index_names = df[ df['Effectiveness'] == 6 ].index"
   ]
  },
  {
   "cell_type": "code",
   "execution_count": 28,
   "metadata": {},
   "outputs": [],
   "source": [
    "df.drop(index_names, inplace = True)"
   ]
  },
  {
   "cell_type": "code",
   "execution_count": 29,
   "metadata": {},
   "outputs": [
    {
     "data": {
      "text/plain": [
       "5    101860\n",
       "4     62305\n",
       "1     47150\n",
       "3     45180\n",
       "2     23658\n",
       "Name: Effectiveness, dtype: int64"
      ]
     },
     "execution_count": 29,
     "metadata": {},
     "output_type": "execute_result"
    }
   ],
   "source": [
    "df.Effectiveness.value_counts()"
   ]
  },
  {
   "cell_type": "markdown",
   "metadata": {},
   "source": [
    "## Cleaning Text Data from column \"Sides\" and \"Reviews\""
   ]
  },
  {
   "cell_type": "markdown",
   "metadata": {},
   "source": [
    "Applying a first round of text cleaning techniques"
   ]
  },
  {
   "cell_type": "code",
   "execution_count": 30,
   "metadata": {},
   "outputs": [],
   "source": [
    "def clean_text_round1(text):\n",
    "    '''Make text lowercase, remove text in square brackets, remove punctuation and remove words containing numbers.'''\n",
    "    text = text.lower()\n",
    "    text = re.sub('\\[.*?\\]', '', text)\n",
    "    text = re.sub('[%s]' % re.escape(string.punctuation), '', text)\n",
    "    text = re.sub('\\w*\\d\\w*', '', text)\n",
    "    return text\n",
    "\n",
    "round1 = lambda x: clean_text_round1(x)"
   ]
  },
  {
   "cell_type": "code",
   "execution_count": 31,
   "metadata": {},
   "outputs": [],
   "source": [
    "df['Sides'] = pd.DataFrame(df['Sides'].apply(round1))\n",
    "df['Reviews'] = pd.DataFrame(df['Reviews'].apply(round1))"
   ]
  },
  {
   "cell_type": "markdown",
   "metadata": {},
   "source": [
    "Applying a second round of text cleaning techniques"
   ]
  },
  {
   "cell_type": "code",
   "execution_count": 32,
   "metadata": {},
   "outputs": [],
   "source": [
    "def clean_text_round2(text):\n",
    "    '''Get rid of some additional punctuation and non-sensical text that was missed the first time around.'''\n",
    "    text = re.sub('[‘’“”…]', '', text)\n",
    "    text = re.sub('\\n', '', text)\n",
    "    return text\n",
    "\n",
    "round2 = lambda x: clean_text_round2(x)"
   ]
  },
  {
   "cell_type": "code",
   "execution_count": 33,
   "metadata": {},
   "outputs": [],
   "source": [
    "df['Sides'] = pd.DataFrame(df['Sides'].apply(round2))\n",
    "df['Reviews'] = pd.DataFrame(df['Reviews'].apply(round2))"
   ]
  },
  {
   "cell_type": "code",
   "execution_count": 34,
   "metadata": {},
   "outputs": [],
   "source": [
    "stop = stopwords.words('english')\n",
    "df['Sides'] = df['Sides'].apply(lambda x: ' '.join([word for word in x.split() if word not in (stop)]))"
   ]
  },
  {
   "cell_type": "code",
   "execution_count": 35,
   "metadata": {},
   "outputs": [
    {
     "name": "stdout",
     "output_type": "stream",
     "text": [
      "dict_items([('drowsiness', 123616), ('dizziness', 176464), ('dry', 78863), ('mouth', 82090), ('nosethroat', 1588), ('headache', 102775), ('upset', 48827), ('stomach', 65314), ('constipation', 88824), ('trouble', 54410), ('sleeping', 56767), ('may', 287863), ('occur', 286809), ('nausea', 167326), ('vomiting', 109986), ('bloating', 18662), ('breast', 17630), ('tenderness', 17196), ('swelling', 20883), ('ankles', 14611), ('feet', 14519), ('fluid', 12603), ('retention', 11325), ('weight', 51203), ('change', 22386), ('temporary', 2159), ('burning', 7019), ('stinging', 3322), ('dryness', 3645), ('nose', 8153), ('runny', 2555), ('sneezing', 327), ('gain', 17574), ('diarrhea', 65416), ('muscle', 7152), ('pain', 30445), ('loss', 86044), ('appetite', 56184), ('way', 4), ('food', 5), ('tastes', 5), ('tiredness', 62680), ('bad', 6129), ('taste', 18057), ('joint', 4128), ('back', 1562), ('difficulty', 8492), ('concentrating', 2917), ('weakness', 20642), ('blurred', 36713), ('vision', 37329), ('pyridoxine', 2), ('usually', 2057), ('side', 1811), ('effects', 7165), ('used', 542), ('recommended', 7), ('doses', 298), ('abdominal', 15327), ('cramps', 4414), ('increased', 34811), ('saliva', 4980), ('sweating', 47953), ('decreased', 5457), ('pupil', 105), ('size', 531), ('urination', 3038), ('changes', 13470), ('itching', 9360), ('apply', 419), ('medication', 22997), ('last', 1908), ('short', 108), ('time', 260), ('redness', 9801), ('little', 31), ('bit', 31), ('application', 3959), ('site', 12112), ('lightheadedness', 61669), ('heartburn', 14761), ('mild', 4330), ('irritation', 7537), ('bruising', 1675), ('injection', 8026), ('burping', 482), ('strange', 947), ('pimple', 126), ('like', 1111), ('bumps', 240), ('flaking', 157), ('treated', 420), ('skin', 10403), ('tingling', 5494), ('body', 19082), ('adjusts', 18152), ('cough', 11909), ('hands', 1175), ('also', 9694), ('effect', 97), ('persists', 80), ('worsens', 80), ('tell', 4787), ('doctor', 5224), ('pharmacist', 5008), ('promptly', 5006), ('eye', 9518), ('discomfort', 1340), ('stingingburning', 276), ('eyes', 2367), ('minutes', 540), ('persist', 3871), ('worsen', 3437), ('feeling', 2844), ('something', 923), ('experience', 235), ('fatigue', 3010), ('notify', 362), ('painburningswellingredness', 25), ('unsteadiness', 2364), ('coordination', 18385), ('sexual', 6673), ('interestability', 3623), ('nervousness', 14466), ('thirst', 927), ('drug', 1077), ('slow', 3271), ('heartbeat', 3869), ('unusual', 15542), ('hair', 8459), ('lip', 11), ('sores', 974), ('runnystuffy', 808), ('carbidopa', 15), ('rare', 58), ('due', 128), ('levodopacontaining', 15), ('product', 586), ('taken', 31), ('together', 15), ('first', 6405), ('applied', 1856), ('disappear', 1230), ('days', 1528), ('retaining', 832), ('simethicone', 27), ('frequency', 768), ('mildly', 768), ('shaking', 12540), ('fine', 768), ('tremor', 12973), ('irritability', 4888), ('restlessness', 1616), ('peeling', 774), ('temporarily', 440), ('slight', 193), ('cause', 192), ('symptoms', 1447), ('become', 29), ('severe', 29), ('achespains', 26), ('anal', 5), ('gas', 8043), ('months', 3411), ('starting', 187), ('especially', 518), ('children', 385), ('metallic', 5819), ('bleeding', 3733), ('placement', 1718), ('device', 1718), ('blisters', 335), ('color', 1163), ('tinglingburning', 2), ('lightening', 9), ('scalp', 470), ('including', 124), ('head', 56), ('lice', 56), ('treatment', 4224), ('permethrin', 115), ('numbness', 113), ('masklike', 282), ('facial', 501), ('expression', 282), ('inability', 444), ('keep', 311), ('still', 311), ('agitation', 693), ('painirritation', 54), ('hot', 4048), ('flashes', 4022), ('flushing', 9738), ('night', 954), ('sweats', 630), ('acne', 10251), ('seborrhea', 11), ('aches', 2311), ('vaginal', 2236), ('discomfortdryness', 285), ('discharge', 1429), ('reduced', 305), ('interest', 1533), ('burningpainbruising', 593), ('abnormal', 200), ('unpleasant', 793), ('directed', 109), ('use', 625), ('remember', 76), ('judged', 76), ('benefit', 76), ('greater', 76), ('risk', 76), ('burningstingingirritationredness', 85), ('watering', 150), ('sensitivity', 316), ('light', 337), ('ache', 300), ('fever', 4128), ('tears', 48), ('affected', 60), ('spinning', 1009), ('emollients', 131), ('safely', 131), ('effectively', 131), ('cramping', 2147), ('rednessdiscomfort', 97), ('eyelid', 545), ('burningstinging', 459), ('eyelash', 237), ('numbercolorlengththickness', 107), ('darkening', 200), ('lid', 107), ('crustingdiscomfort', 107), ('rash', 456), ('reactions', 1544), ('infections', 2), ('earnosethroat', 2), ('rumblingpain', 204), ('increase', 367), ('goes', 199), ('away', 392), ('continued', 149), ('problems', 2819), ('discomfortirritationredness', 25), ('tearing', 162), ('sticky', 27), ('eyelashes', 73), ('double', 7867), ('balance', 115), ('walking', 130), ('shakiness', 1746), ('memory', 252), ('painrednessswelling', 1051), ('folic', 14), ('acid', 15), ('handslower', 16), ('legsfeet', 48), ('odor', 27), ('fishy', 39), ('smell', 26), ('stuffy', 4534), ('handsfeet', 4982), ('coughing', 924), ('sore', 4649), ('throat', 6950), ('aching', 89), ('bones', 89), ('muscles', 89), ('infrequently', 6), ('bone', 678), ('hoarseness', 1344), ('bleeds', 244), ('chills', 1300), ('shortness', 662), ('breath', 673), ('infusion', 22), ('fast', 436), ('rednessdiscomfortpainswelling', 6), ('bittersourunusual', 60), ('loose', 2400), ('stools', 2467), ('painredness', 163), ('irritationstingingburning', 59), ('beginning', 38), ('weeks', 976), ('subside', 68), ('bitter', 221), ('inside', 118), ('fits', 118), ('red', 119), ('sting', 194), ('burn', 194), ('minute', 146), ('two', 146), ('rednesspainbruising', 33), ('tinglingnumbness', 468), ('area', 764), ('urinating', 1948), ('frequent', 814), ('urge', 177), ('urinate', 177), ('mood', 554), ('swings', 540), ('gainloss', 379), ('swellingtenderness', 127), ('unwanted', 127), ('growth', 461), ('bleed', 13), ('discomfortirritation', 559), ('feethands', 21), ('confusion', 120), ('feelings', 1800), ('fullness', 622), ('abdomen', 503), ('common', 520), ('movements', 7221), ('excitation', 133), ('dryflushed', 190), ('methoxsalen', 18), ('dryingreddeningdarkening', 9), ('along', 297), ('uva', 9), ('staining', 117), ('patients', 18), ('blonde', 18), ('bleached', 18), ('dyed', 18), ('gray', 18), ('watery', 996), ('increaseddecreased', 254), ('oily', 449), ('nosebleeds', 832), ('swellingredness', 144), ('nosebleed', 1001), ('nasal', 253), ('drynessirritationscabbing', 6), ('tickling', 3), ('irritationredness', 151), ('rednessirritation', 988), ('menstrual', 2037), ('cycle', 130), ('blood', 128), ('tinged', 128), ('mucus', 133), ('phlegm', 128), ('brief', 263), ('right', 290), ('tastesmell', 92), ('sensations', 121), ('tinglingnumbnesspricklingheat', 1143), ('stingingredness', 43), ('widened', 205), ('pupils', 205), ('bladder', 41), ('control', 235), ('anxiety', 2420), ('injected', 145), ('high', 141), ('exaggerated', 128), ('sense', 273), ('wellbeing', 130), ('euphoria', 22), ('voice', 376), ('peelingburningdryreddened', 14), ('start', 338), ('substitutes', 13), ('sorespain', 1), ('nail', 63), ('spasms', 174), ('get', 1652), ('worse', 1604), ('texture', 67), ('discoloration', 263), ('burningtingling', 21), ('tongue', 141), ('well', 17), ('tolerated', 17), ('ear', 256), ('nilutamide', 4), ('medications', 23), ('one', 272), ('medicine', 6), ('combination', 10), ('tastedryness', 1), ('leg', 805), ('tooth', 687), ('hiccups', 85), ('irritationblisteringtingling', 4), ('bloody', 82), ('teeth', 51), ('jaw', 56), ('face', 482), ('neck', 336), ('warmth', 949), ('within', 798), ('hours', 1176), ('taking', 717), ('niacinamide', 9), ('generally', 9), ('usual', 9), ('dandruff', 18), ('although', 125), ('uncommon', 135), ('vitamin', 153), ('normal', 126), ('rednesswarmthbruising', 921), ('period', 214), ('bowel', 1430), ('function', 187), ('often', 191), ('unabsorbed', 187), ('fat', 187), ('fattyoily', 187), ('stool', 192), ('spotting', 229), ('intestinal', 187), ('needing', 187), ('movement', 188), ('number', 191), ('poor', 198), ('cold', 202), ('headnose', 173), ('irritationpain', 457), ('irritationnumbnesstingling', 38), ('using', 709), ('drooling', 1123), ('rednesspainburning', 21), ('given', 109), ('condition', 109), ('close', 109), ('folliculitis', 52), ('rarely', 283), ('aftertaste', 23), ('made', 23), ('fish', 23), ('oil', 36), ('people', 84), ('serious', 4), ('burningstingingrednessdryness', 131), ('irritationsoreness', 50), ('rednesspainswelling', 26), ('earthroat', 8), ('drynessirritation', 241), ('looseoily', 39), ('fastpounding', 20), ('irritationdiscomfort', 65), ('earache', 10), ('penis', 84), ('testiclegroin', 42), ('minor', 1034), ('veins', 43), ('rapid', 53), ('drynessrednessitchiness', 103), ('worsening', 502), ('allergy', 13), ('expected', 561), ('commonly', 190), ('swellingpain', 48), ('vaginalurethral', 503), ('lower', 363), ('lasts', 76), ('irritated', 125), ('dryirritated', 189), ('lips', 437), ('eyelids', 231), ('crusty', 190), ('thinning', 568), ('reports', 109), ('however', 109), ('upsetpain', 3246), ('swellingrednessirritation', 5), ('mineral', 13), ('leak', 13), ('rectum', 43), ('difficulties', 21), ('sensitive', 1), ('flu', 1010), ('rectal', 202), ('inserting', 80), ('suppository', 57), ('bottle', 23), ('tip', 23), ('excitement', 23), ('k', 3), ('soreness', 311), ('rednesspain', 27), ('spottingbleeding', 7), ('abilitydesire', 956), ('decrease', 975), ('rednessburning', 128), ('headaches', 8), ('falling', 96), ('asleep', 96), ('shakynervous', 96), ('discomfortpain', 35), ('goose', 61), ('urinary', 61), ('strongfrequent', 61), ('see', 26), ('section', 26), ('crusting', 125), ('yawning', 11560), ('dreams', 2001), ('metallicsalty', 121), ('stiffness', 14), ('irritationburningstinging', 15), ('numbtingling', 392), ('numbnesstingling', 295), ('around', 231), ('sex', 3172), ('painswelling', 237), ('bodyfacial', 4), ('swallowing', 1), ('excessive', 1311), ('since', 3), ('darunavir', 6), ('always', 3), ('hiv', 3), ('difficult', 3), ('whether', 3), ('causing', 3), ('certain', 3), ('gum', 72), ('eg', 833), ('hard', 117), ('lump', 120), ('drink', 149), ('bothersome', 42), ('include', 494), ('easy', 1661), ('cuts', 802), ('soredry', 8), ('irritationburning', 8), ('scabies', 59), ('reddened', 55), ('tartar', 59), ('fooddrinks', 59), ('belching', 30), ('shapecolor', 32), ('better', 48), ('lack', 302), ('energy', 16), ('flakingpeeling', 51), ('dim', 9), ('brow', 9), ('twitching', 2), ('top', 28), ('layer', 28), ('scaling', 462), ('bleedingbruising', 857), ('backbone', 7), ('stingingburningrednessitchiness', 39), ('small', 281), ('altered', 33), ('numbnesstinglingredness', 24), ('tiredweak', 24), ('armslegs', 396), ('numbnesstinglingburning', 27), ('daytime', 212), ('calcitriol', 30), ('several', 67), ('ejaculation', 834), ('tremors', 172), ('rednessswellingpain', 54), ('urine', 12), ('turn', 12), ('bright', 15), ('yellow', 12), ('low', 171), ('tastehearing', 142), ('chest', 16), ('swollen', 36), ('edema', 38), ('sensation', 288), ('immediately', 166), ('applying', 240), ('discomfortredness', 301), ('corneal', 7), ('dermatitis', 6), ('rosacea', 6), ('pimples', 6), ('painsores', 30), ('dose', 67), ('ringing', 3637), ('ears', 3637), ('hearing', 83), ('foods', 442), ('drycrackedthickened', 56), ('legs', 135), ('move', 133), ('talk', 133), ('frequently', 235), ('amounts', 194), ('implant', 22), ('palms', 90), ('soles', 67), ('gums', 9), ('bitterstrangechange', 9), ('spray', 35), ('swellingflaking', 17), ('lessen', 57), ('stop', 3), ('stingingburningredness', 130), ('hardening', 48), ('increasing', 29), ('slowly', 36), ('itchy', 42), ('lumps', 4), ('shortterm', 117), ('take', 117), ('delayedirregularabsent', 82), ('periods', 1307), ('flushingwarmth', 192), ('rednessdischarge', 22), ('flushes', 26), ('coldlike', 26), ('irritationpaindrynessredness', 8), ('paintenderness', 446), ('thickeninghardening', 446), ('peelingflakingscabbingcrusting', 446), ('leaking', 446), ('clear', 446), ('abdominalpelvic', 63), ('gets', 176), ('near', 30), ('sleepiness', 5), ('waking', 33), ('drycracked', 55), ('flaky', 39), ('mentalmood', 22), ('burningstingingirritation', 24), ('jawmusclebone', 7), ('shrinking', 12), ('testicles', 12), ('tendernessswelling', 12), ('result', 12), ('lowered', 12), ('testosterone', 12), ('levels', 12), ('ability', 3047), ('numberlengththickness', 41), ('achepain', 1655), ('occurs', 134), ('hydrocodone', 127), ('sit', 4), ('lie', 4), ('painrednesssoreness', 4), ('large', 16), ('unwanteduncontrolled', 22), ('speaking', 2), ('black', 42), ('hairy', 42), ('desire', 325), ('rednessswelling', 325), ('tinglingburningnumbnessprickling', 24), ('painrednesswarmthbruisingswelling', 1), ('upper', 1), ('man', 1), ('syndrome', 1), ('drunk', 42), ('drynessrednessirritation', 89), ('baloxavir', 14), ('marboxil', 14), ('sometimes', 7), ('lessened', 7), ('giving', 7), ('production', 4709), ('drive', 2195), ('dryflaky', 16), ('arms', 2), ('prescribed', 9), ('child', 5), ('excess', 136), ('fewer', 189), ('corticosteroids', 189), ('budesonide', 189), ('works', 189), ('gut', 189), ('absorbed', 189), ('spasm', 7), ('drowsinesstiredness', 26), ('e', 3), ('burningpainswellingreddening', 30), ('ask', 2), ('ways', 2), ('anti', 2), ('abilityinterest', 1), ('tinglingnumbnessprickling', 58), ('amount', 225), ('semen', 225), ('sperm', 225), ('testicle', 225), ('sunscreen', 1), ('products', 1), ('containing', 1), ('aminobenzoic', 1), ('paraaminobenzoic', 1), ('acidpaba', 1), ('stain', 1), ('clothing', 1), ('burningstingingdiscomfort', 5), ('corner', 5), ('insomnia', 120), ('breathing', 29), ('started', 10), ('follicle', 65), ('painswellingredness', 217), ('limited', 1), ('arm', 2), ('metallicgarliclike', 128), ('sleep', 47), ('patterns', 43), ('patch', 53), ('week', 268), ('burningstingingredness', 13), ('discomfortpainsoreness', 20), ('toothache', 20), ('irritationrednesspain', 6), ('fainting', 37), ('indigestion', 5), ('canal', 6), ('dropped', 12), ('drypeelingoily', 2), ('changesloss', 3), ('stomachache', 26), ('backache', 26), ('feverchills', 26), ('pale', 19), ('soft', 28), ('sorenessrednessswellingbruising', 4), ('painful', 2), ('male', 1), ('tendernessenlargement', 1), ('mildmoderate', 96), ('tendernesspain', 9), ('unlikely', 2), ('persistent', 2), ('bruisingbleeding', 2), ('painrednessirritation', 17), ('hardened', 1), ('flutamide', 6), ('caused', 6), ('lethargy', 28), ('tape', 3), ('redsore', 4), ('lipsthroat', 1), ('focusing', 180), ('seeing', 180), ('spots', 180), ('hypotension', 32), ('poundingfast', 100), ('nightmares', 2), ('painsorenessrednessswelling', 1), ('disturbances', 4), ('musclebone', 1), ('painirritationbruising', 16), ('shivering', 19), ('ingrown', 152), ('toenail', 152), ('numb', 1), ('irritationcongestion', 31), ('fingernails', 7), ('toenails', 7), ('stingingdiscomfort', 4), ('waterydryitchyred', 4), ('swellingtendernesspain', 57), ('difficultpainfulfrequentbloody', 1), ('nails', 14), ('painburningredness', 5), ('impotence', 558), ('spotsfreckles', 23), ('handssoles', 23), ('burningpainful', 157), ('vein', 12), ('walkingclumsiness', 2), ('oiliness', 1), ('pitch', 20), ('women', 20), ('painbruisingrednessswelling', 1), ('achespain', 21), ('diaper', 237), ('young', 237), ('paindiscomfort', 1), ('calcifediol', 1), ('feeding', 2)])\n"
     ]
    }
   ],
   "source": [
    "result = Counter(\" \".join(df['Sides'].values.tolist()).split(\" \")).items()\n",
    "print(result)"
   ]
  },
  {
   "cell_type": "code",
   "execution_count": 36,
   "metadata": {},
   "outputs": [
    {
     "data": {
      "text/plain": [
       "[('may', 287863),\n",
       " ('occur', 286809),\n",
       " ('dizziness', 176464),\n",
       " ('nausea', 167326),\n",
       " ('drowsiness', 123616),\n",
       " ('vomiting', 109986),\n",
       " ('headache', 102775),\n",
       " ('constipation', 88824),\n",
       " ('loss', 86044),\n",
       " ('mouth', 82090),\n",
       " ('dry', 78863),\n",
       " ('diarrhea', 65416),\n",
       " ('stomach', 65314),\n",
       " ('tiredness', 62680),\n",
       " ('lightheadedness', 61669),\n",
       " ('sleeping', 56767),\n",
       " ('appetite', 56184),\n",
       " ('trouble', 54410),\n",
       " ('weight', 51203),\n",
       " ('upset', 48827),\n",
       " ('sweating', 47953),\n",
       " ('vision', 37329),\n",
       " ('blurred', 36713),\n",
       " ('increased', 34811),\n",
       " ('pain', 30445),\n",
       " ('medication', 22997),\n",
       " ('change', 22386),\n",
       " ('swelling', 20883),\n",
       " ('weakness', 20642),\n",
       " ('body', 19082),\n",
       " ('bloating', 18662),\n",
       " ('coordination', 18385),\n",
       " ('adjusts', 18152),\n",
       " ('taste', 18057),\n",
       " ('breast', 17630),\n",
       " ('gain', 17574),\n",
       " ('tenderness', 17196),\n",
       " ('unusual', 15542),\n",
       " ('abdominal', 15327),\n",
       " ('heartburn', 14761),\n",
       " ('ankles', 14611),\n",
       " ('feet', 14519),\n",
       " ('nervousness', 14466),\n",
       " ('changes', 13470),\n",
       " ('tremor', 12973),\n",
       " ('fluid', 12603),\n",
       " ('shaking', 12540),\n",
       " ('site', 12112),\n",
       " ('cough', 11909),\n",
       " ('yawning', 11560),\n",
       " ('retention', 11325),\n",
       " ('skin', 10403),\n",
       " ('acne', 10251),\n",
       " ('redness', 9801),\n",
       " ('flushing', 9738),\n",
       " ('also', 9694),\n",
       " ('eye', 9518),\n",
       " ('itching', 9360),\n",
       " ('difficulty', 8492),\n",
       " ('hair', 8459),\n",
       " ('nose', 8153),\n",
       " ('gas', 8043),\n",
       " ('injection', 8026),\n",
       " ('double', 7867),\n",
       " ('irritation', 7537),\n",
       " ('movements', 7221),\n",
       " ('effects', 7165),\n",
       " ('muscle', 7152),\n",
       " ('burning', 7019),\n",
       " ('throat', 6950),\n",
       " ('sexual', 6673),\n",
       " ('first', 6405),\n",
       " ('bad', 6129),\n",
       " ('metallic', 5819),\n",
       " ('tingling', 5494),\n",
       " ('decreased', 5457),\n",
       " ('doctor', 5224),\n",
       " ('pharmacist', 5008),\n",
       " ('promptly', 5006),\n",
       " ('handsfeet', 4982),\n",
       " ('saliva', 4980),\n",
       " ('irritability', 4888),\n",
       " ('tell', 4787),\n",
       " ('production', 4709),\n",
       " ('sore', 4649),\n",
       " ('stuffy', 4534),\n",
       " ('cramps', 4414),\n",
       " ('mild', 4330),\n",
       " ('treatment', 4224),\n",
       " ('fever', 4128),\n",
       " ('joint', 4128),\n",
       " ('hot', 4048),\n",
       " ('flashes', 4022),\n",
       " ('application', 3959),\n",
       " ('persist', 3871),\n",
       " ('heartbeat', 3869),\n",
       " ('bleeding', 3733),\n",
       " ('dryness', 3645),\n",
       " ('ears', 3637),\n",
       " ('ringing', 3637),\n",
       " ('interestability', 3623),\n",
       " ('worsen', 3437),\n",
       " ('months', 3411),\n",
       " ('stinging', 3322),\n",
       " ('slow', 3271),\n",
       " ('upsetpain', 3246),\n",
       " ('sex', 3172),\n",
       " ('ability', 3047),\n",
       " ('urination', 3038),\n",
       " ('fatigue', 3010),\n",
       " ('concentrating', 2917),\n",
       " ('feeling', 2844),\n",
       " ('problems', 2819),\n",
       " ('runny', 2555),\n",
       " ('stools', 2467),\n",
       " ('anxiety', 2420),\n",
       " ('loose', 2400),\n",
       " ('eyes', 2367),\n",
       " ('unsteadiness', 2364),\n",
       " ('aches', 2311),\n",
       " ('vaginal', 2236),\n",
       " ('drive', 2195),\n",
       " ('temporary', 2159),\n",
       " ('cramping', 2147),\n",
       " ('usually', 2057),\n",
       " ('menstrual', 2037),\n",
       " ('dreams', 2001),\n",
       " ('urinating', 1948),\n",
       " ('last', 1908),\n",
       " ('applied', 1856),\n",
       " ('side', 1811),\n",
       " ('feelings', 1800),\n",
       " ('shakiness', 1746),\n",
       " ('device', 1718),\n",
       " ('placement', 1718),\n",
       " ('bruising', 1675),\n",
       " ('easy', 1661),\n",
       " ('achepain', 1655),\n",
       " ('get', 1652),\n",
       " ('restlessness', 1616),\n",
       " ('worse', 1604),\n",
       " ('nosethroat', 1588),\n",
       " ('back', 1562),\n",
       " ('reactions', 1544),\n",
       " ('interest', 1533),\n",
       " ('days', 1528),\n",
       " ('symptoms', 1447),\n",
       " ('bowel', 1430),\n",
       " ('discharge', 1429),\n",
       " ('hoarseness', 1344),\n",
       " ('discomfort', 1340),\n",
       " ('excessive', 1311),\n",
       " ('periods', 1307),\n",
       " ('chills', 1300),\n",
       " ('disappear', 1230),\n",
       " ('hours', 1176),\n",
       " ('hands', 1175),\n",
       " ('color', 1163),\n",
       " ('tinglingnumbnesspricklingheat', 1143),\n",
       " ('drooling', 1123),\n",
       " ('like', 1111),\n",
       " ('drug', 1077),\n",
       " ('painrednessswelling', 1051),\n",
       " ('minor', 1034),\n",
       " ('flu', 1010),\n",
       " ('spinning', 1009),\n",
       " ('nosebleed', 1001),\n",
       " ('watery', 996),\n",
       " ('rednessirritation', 988),\n",
       " ('weeks', 976),\n",
       " ('decrease', 975),\n",
       " ('sores', 974),\n",
       " ('abilitydesire', 956),\n",
       " ('night', 954),\n",
       " ('warmth', 949),\n",
       " ('strange', 947),\n",
       " ('thirst', 927),\n",
       " ('coughing', 924),\n",
       " ('something', 923),\n",
       " ('rednesswarmthbruising', 921),\n",
       " ('bleedingbruising', 857),\n",
       " ('ejaculation', 834),\n",
       " ('eg', 833),\n",
       " ('nosebleeds', 832),\n",
       " ('retaining', 832),\n",
       " ('frequent', 814),\n",
       " ('runnystuffy', 808),\n",
       " ('leg', 805),\n",
       " ('cuts', 802),\n",
       " ('within', 798),\n",
       " ('unpleasant', 793),\n",
       " ('peeling', 774),\n",
       " ('fine', 768),\n",
       " ('frequency', 768),\n",
       " ('mildly', 768),\n",
       " ('area', 764),\n",
       " ('taking', 717),\n",
       " ('using', 709),\n",
       " ('agitation', 693),\n",
       " ('tooth', 687),\n",
       " ('bone', 678),\n",
       " ('breath', 673),\n",
       " ('shortness', 662),\n",
       " ('sweats', 630),\n",
       " ('use', 625),\n",
       " ('fullness', 622),\n",
       " ('burningpainbruising', 593),\n",
       " ('product', 586),\n",
       " ('thinning', 568),\n",
       " ('expected', 561),\n",
       " ('discomfortirritation', 559),\n",
       " ('impotence', 558),\n",
       " ('mood', 554),\n",
       " ('eyelid', 545),\n",
       " ('used', 542),\n",
       " ('minutes', 540),\n",
       " ('swings', 540),\n",
       " ('size', 531),\n",
       " ('common', 520),\n",
       " ('especially', 518),\n",
       " ('abdomen', 503),\n",
       " ('vaginalurethral', 503),\n",
       " ('worsening', 502),\n",
       " ('facial', 501),\n",
       " ('include', 494),\n",
       " ('burping', 482),\n",
       " ('face', 482),\n",
       " ('scalp', 470),\n",
       " ('tinglingnumbness', 468),\n",
       " ('scaling', 462),\n",
       " ('growth', 461),\n",
       " ('burningstinging', 459),\n",
       " ('irritationpain', 457),\n",
       " ('rash', 456),\n",
       " ('oily', 449),\n",
       " ('clear', 446),\n",
       " ('leaking', 446),\n",
       " ('paintenderness', 446),\n",
       " ('peelingflakingscabbingcrusting', 446),\n",
       " ('thickeninghardening', 446),\n",
       " ('inability', 444),\n",
       " ('foods', 442),\n",
       " ('temporarily', 440),\n",
       " ('lips', 437),\n",
       " ('fast', 436),\n",
       " ('treated', 420),\n",
       " ('apply', 419),\n",
       " ('armslegs', 396),\n",
       " ('away', 392),\n",
       " ('numbtingling', 392),\n",
       " ('children', 385),\n",
       " ('gainloss', 379),\n",
       " ('voice', 376),\n",
       " ('increase', 367),\n",
       " ('lower', 363),\n",
       " ('notify', 362),\n",
       " ('start', 338),\n",
       " ('light', 337),\n",
       " ('neck', 336),\n",
       " ('blisters', 335),\n",
       " ('sneezing', 327),\n",
       " ('desire', 325),\n",
       " ('rednessswelling', 325),\n",
       " ('sensitivity', 316),\n",
       " ('keep', 311),\n",
       " ('soreness', 311),\n",
       " ('still', 311),\n",
       " ('reduced', 305),\n",
       " ('lack', 302),\n",
       " ('discomfortredness', 301),\n",
       " ('ache', 300),\n",
       " ('doses', 298),\n",
       " ('along', 297),\n",
       " ('numbnesstingling', 295),\n",
       " ('right', 290),\n",
       " ('sensation', 288),\n",
       " ('discomfortdryness', 285),\n",
       " ('rarely', 283),\n",
       " ('expression', 282),\n",
       " ('masklike', 282),\n",
       " ('small', 281),\n",
       " ('stingingburning', 276),\n",
       " ('sense', 273),\n",
       " ('one', 272),\n",
       " ('week', 268),\n",
       " ('brief', 263),\n",
       " ('discoloration', 263),\n",
       " ('time', 260),\n",
       " ('ear', 256),\n",
       " ('increaseddecreased', 254),\n",
       " ('nasal', 253),\n",
       " ('memory', 252),\n",
       " ('bleeds', 244),\n",
       " ('drynessirritation', 241),\n",
       " ('applying', 240),\n",
       " ('bumps', 240),\n",
       " ('diaper', 237),\n",
       " ('eyelash', 237),\n",
       " ('painswelling', 237),\n",
       " ('young', 237),\n",
       " ('control', 235),\n",
       " ('experience', 235),\n",
       " ('frequently', 235),\n",
       " ('around', 231),\n",
       " ('eyelids', 231),\n",
       " ('spotting', 229),\n",
       " ('amount', 225),\n",
       " ('semen', 225),\n",
       " ('sperm', 225),\n",
       " ('testicle', 225),\n",
       " ('bitter', 221),\n",
       " ('painswellingredness', 217),\n",
       " ('period', 214),\n",
       " ('daytime', 212),\n",
       " ('pupils', 205),\n",
       " ('widened', 205),\n",
       " ('rumblingpain', 204),\n",
       " ('cold', 202),\n",
       " ('rectal', 202),\n",
       " ('abnormal', 200),\n",
       " ('darkening', 200),\n",
       " ('goes', 199),\n",
       " ('poor', 198),\n",
       " ('amounts', 194),\n",
       " ('burn', 194),\n",
       " ('sting', 194),\n",
       " ('slight', 193),\n",
       " ('cause', 192),\n",
       " ('flushingwarmth', 192),\n",
       " ('stool', 192),\n",
       " ('number', 191),\n",
       " ('often', 191),\n",
       " ('commonly', 190),\n",
       " ('crusty', 190),\n",
       " ('dryflushed', 190),\n",
       " ('absorbed', 189),\n",
       " ('budesonide', 189),\n",
       " ('corticosteroids', 189),\n",
       " ('dryirritated', 189),\n",
       " ('fewer', 189),\n",
       " ('gut', 189),\n",
       " ('works', 189),\n",
       " ('movement', 188),\n",
       " ('fat', 187),\n",
       " ('fattyoily', 187),\n",
       " ('function', 187),\n",
       " ('intestinal', 187),\n",
       " ('needing', 187),\n",
       " ('starting', 187),\n",
       " ('unabsorbed', 187),\n",
       " ('focusing', 180),\n",
       " ('seeing', 180),\n",
       " ('spots', 180),\n",
       " ('urge', 177),\n",
       " ('urinate', 177),\n",
       " ('gets', 176),\n",
       " ('spasms', 174),\n",
       " ('headnose', 173),\n",
       " ('tremors', 172),\n",
       " ('low', 171),\n",
       " ('immediately', 166),\n",
       " ('painredness', 163),\n",
       " ('tearing', 162),\n",
       " ('burningpainful', 157),\n",
       " ('flaking', 157),\n",
       " ('vitamin', 153),\n",
       " ('ingrown', 152),\n",
       " ('toenail', 152),\n",
       " ('irritationredness', 151),\n",
       " ('watering', 150),\n",
       " ('continued', 149),\n",
       " ('drink', 149),\n",
       " ('minute', 146),\n",
       " ('two', 146),\n",
       " ('injected', 145),\n",
       " ('swellingredness', 144),\n",
       " ('tastehearing', 142),\n",
       " ('high', 141),\n",
       " ('tongue', 141),\n",
       " ('excess', 136),\n",
       " ('legs', 135),\n",
       " ('uncommon', 135),\n",
       " ('occurs', 134),\n",
       " ('excitation', 133),\n",
       " ('move', 133),\n",
       " ('mucus', 133),\n",
       " ('talk', 133),\n",
       " ('burningstingingrednessdryness', 131),\n",
       " ('effectively', 131),\n",
       " ('emollients', 131),\n",
       " ('safely', 131),\n",
       " ('cycle', 130),\n",
       " ('stingingburningredness', 130),\n",
       " ('walking', 130),\n",
       " ('wellbeing', 130),\n",
       " ('blood', 128),\n",
       " ('due', 128),\n",
       " ('exaggerated', 128),\n",
       " ('metallicgarliclike', 128),\n",
       " ('phlegm', 128),\n",
       " ('rednessburning', 128),\n",
       " ('tinged', 128),\n",
       " ('hydrocodone', 127),\n",
       " ('swellingtenderness', 127),\n",
       " ('unwanted', 127),\n",
       " ('normal', 126),\n",
       " ('pimple', 126),\n",
       " ('although', 125),\n",
       " ('crusting', 125),\n",
       " ('irritated', 125),\n",
       " ('including', 124),\n",
       " ('metallicsalty', 121),\n",
       " ('sensations', 121),\n",
       " ('confusion', 120),\n",
       " ('insomnia', 120),\n",
       " ('lump', 120),\n",
       " ('red', 119),\n",
       " ('fits', 118),\n",
       " ('inside', 118),\n",
       " ('hard', 117),\n",
       " ('shortterm', 117),\n",
       " ('staining', 117),\n",
       " ('take', 117),\n",
       " ('balance', 115),\n",
       " ('permethrin', 115),\n",
       " ('numbness', 113),\n",
       " ('close', 109),\n",
       " ('condition', 109),\n",
       " ('directed', 109),\n",
       " ('given', 109),\n",
       " ('however', 109),\n",
       " ('reports', 109),\n",
       " ('short', 108),\n",
       " ('crustingdiscomfort', 107),\n",
       " ('lid', 107),\n",
       " ('numbercolorlengththickness', 107),\n",
       " ('pupil', 105),\n",
       " ('drynessrednessitchiness', 103),\n",
       " ('poundingfast', 100),\n",
       " ('effect', 97),\n",
       " ('rednessdiscomfort', 97),\n",
       " ('asleep', 96),\n",
       " ('falling', 96),\n",
       " ('mildmoderate', 96),\n",
       " ('shakynervous', 96),\n",
       " ('tastesmell', 92),\n",
       " ('palms', 90),\n",
       " ('aching', 89),\n",
       " ('bones', 89),\n",
       " ('drynessrednessirritation', 89),\n",
       " ('muscles', 89),\n",
       " ('burningstingingirritationredness', 85),\n",
       " ('hiccups', 85),\n",
       " ('penis', 84),\n",
       " ('people', 84),\n",
       " ('hearing', 83),\n",
       " ('bloody', 82),\n",
       " ('delayedirregularabsent', 82),\n",
       " ('inserting', 80),\n",
       " ('persists', 80),\n",
       " ('worsens', 80),\n",
       " ('benefit', 76),\n",
       " ('greater', 76),\n",
       " ('judged', 76),\n",
       " ('lasts', 76),\n",
       " ('remember', 76),\n",
       " ('risk', 76),\n",
       " ('eyelashes', 73),\n",
       " ('gum', 72),\n",
       " ('subside', 68),\n",
       " ('dose', 67),\n",
       " ('several', 67),\n",
       " ('soles', 67),\n",
       " ('texture', 67),\n",
       " ('follicle', 65),\n",
       " ('irritationdiscomfort', 65),\n",
       " ('abdominalpelvic', 63),\n",
       " ('nail', 63),\n",
       " ('goose', 61),\n",
       " ('strongfrequent', 61),\n",
       " ('urinary', 61),\n",
       " ('affected', 60),\n",
       " ('bittersourunusual', 60),\n",
       " ('fooddrinks', 59),\n",
       " ('irritationstingingburning', 59),\n",
       " ('scabies', 59),\n",
       " ('tartar', 59),\n",
       " ('rare', 58),\n",
       " ('tinglingnumbnessprickling', 58),\n",
       " ('lessen', 57),\n",
       " ('suppository', 57),\n",
       " ('swellingtendernesspain', 57),\n",
       " ('drycrackedthickened', 56),\n",
       " ('head', 56),\n",
       " ('jaw', 56),\n",
       " ('lice', 56),\n",
       " ('drycracked', 55),\n",
       " ('reddened', 55),\n",
       " ('painirritation', 54),\n",
       " ('rednessswellingpain', 54),\n",
       " ('patch', 53),\n",
       " ('rapid', 53),\n",
       " ('folliculitis', 52),\n",
       " ('flakingpeeling', 51),\n",
       " ('teeth', 51),\n",
       " ('irritationsoreness', 50),\n",
       " ('better', 48),\n",
       " ('hardening', 48),\n",
       " ('legsfeet', 48),\n",
       " ('swellingpain', 48),\n",
       " ('tears', 48),\n",
       " ('sleep', 47),\n",
       " ('patterns', 43),\n",
       " ('rectum', 43),\n",
       " ('stingingredness', 43),\n",
       " ('veins', 43),\n",
       " ('black', 42),\n",
       " ('bothersome', 42),\n",
       " ('drunk', 42),\n",
       " ('hairy', 42),\n",
       " ('itchy', 42),\n",
       " ('testiclegroin', 42),\n",
       " ('bladder', 41),\n",
       " ('numberlengththickness', 41),\n",
       " ('fishy', 39),\n",
       " ('flaky', 39),\n",
       " ('looseoily', 39),\n",
       " ('stingingburningrednessitchiness', 39),\n",
       " ('beginning', 38),\n",
       " ('edema', 38),\n",
       " ('irritationnumbnesstingling', 38),\n",
       " ('fainting', 37),\n",
       " ('oil', 36),\n",
       " ('slowly', 36),\n",
       " ('swollen', 36),\n",
       " ('discomfortpain', 35),\n",
       " ('spray', 35),\n",
       " ('altered', 33),\n",
       " ('rednesspainbruising', 33),\n",
       " ('waking', 33),\n",
       " ('hypotension', 32),\n",
       " ('shapecolor', 32),\n",
       " ('bit', 31),\n",
       " ('irritationcongestion', 31),\n",
       " ('little', 31),\n",
       " ('taken', 31),\n",
       " ('belching', 30),\n",
       " ('burningpainswellingreddening', 30),\n",
       " ('calcitriol', 30),\n",
       " ('near', 30),\n",
       " ('painsores', 30),\n",
       " ('become', 29),\n",
       " ('breathing', 29),\n",
       " ('increasing', 29),\n",
       " ('severe', 29),\n",
       " ('layer', 28),\n",
       " ('lethargy', 28),\n",
       " ('soft', 28),\n",
       " ('top', 28),\n",
       " ('numbnesstinglingburning', 27),\n",
       " ('odor', 27),\n",
       " ('rednesspain', 27),\n",
       " ('simethicone', 27),\n",
       " ('sticky', 27),\n",
       " ('achespains', 26),\n",
       " ('backache', 26),\n",
       " ('coldlike', 26),\n",
       " ('drowsinesstiredness', 26),\n",
       " ('feverchills', 26),\n",
       " ('flushes', 26),\n",
       " ('rednesspainswelling', 26),\n",
       " ('section', 26),\n",
       " ('see', 26),\n",
       " ('smell', 26),\n",
       " ('stomachache', 26),\n",
       " ('discomfortirritationredness', 25),\n",
       " ('painburningswellingredness', 25),\n",
       " ('burningstingingirritation', 24),\n",
       " ('numbnesstinglingredness', 24),\n",
       " ('tinglingburningnumbnessprickling', 24),\n",
       " ('tiredweak', 24),\n",
       " ('aftertaste', 23),\n",
       " ('bottle', 23),\n",
       " ('excitement', 23),\n",
       " ('fish', 23),\n",
       " ('handssoles', 23),\n",
       " ('made', 23),\n",
       " ('medications', 23),\n",
       " ('spotsfreckles', 23),\n",
       " ('tip', 23),\n",
       " ('euphoria', 22),\n",
       " ('implant', 22),\n",
       " ('infusion', 22),\n",
       " ('mentalmood', 22),\n",
       " ('rednessdischarge', 22),\n",
       " ('unwanteduncontrolled', 22),\n",
       " ('achespain', 21),\n",
       " ('burningtingling', 21),\n",
       " ('difficulties', 21),\n",
       " ('feethands', 21),\n",
       " ('rednesspainburning', 21),\n",
       " ('discomfortpainsoreness', 20),\n",
       " ('fastpounding', 20),\n",
       " ('pitch', 20),\n",
       " ('toothache', 20),\n",
       " ('women', 20),\n",
       " ('pale', 19),\n",
       " ('shivering', 19),\n",
       " ('bleached', 18),\n",
       " ('blonde', 18),\n",
       " ('dandruff', 18),\n",
       " ('dyed', 18),\n",
       " ('gray', 18),\n",
       " ('methoxsalen', 18),\n",
       " ('patients', 18),\n",
       " ('painrednessirritation', 17),\n",
       " ('swellingflaking', 17),\n",
       " ('tolerated', 17),\n",
       " ('well', 17),\n",
       " ('chest', 16),\n",
       " ('dryflaky', 16),\n",
       " ('energy', 16),\n",
       " ('handslower', 16),\n",
       " ('large', 16),\n",
       " ('painirritationbruising', 16),\n",
       " ('acid', 15),\n",
       " ('bright', 15),\n",
       " ('carbidopa', 15),\n",
       " ('irritationburningstinging', 15),\n",
       " ('levodopacontaining', 15),\n",
       " ('together', 15),\n",
       " ('baloxavir', 14),\n",
       " ('folic', 14),\n",
       " ('marboxil', 14),\n",
       " ('nails', 14),\n",
       " ('peelingburningdryreddened', 14),\n",
       " ('stiffness', 14),\n",
       " ('allergy', 13),\n",
       " ('bleed', 13),\n",
       " ('burningstingingredness', 13),\n",
       " ('leak', 13),\n",
       " ('mineral', 13),\n",
       " ('substitutes', 13),\n",
       " ('dropped', 12),\n",
       " ('levels', 12),\n",
       " ('lowered', 12),\n",
       " ('result', 12),\n",
       " ('shrinking', 12),\n",
       " ('tendernessswelling', 12),\n",
       " ('testicles', 12),\n",
       " ('testosterone', 12),\n",
       " ('turn', 12),\n",
       " ('urine', 12),\n",
       " ('vein', 12),\n",
       " ('yellow', 12),\n",
       " ('lip', 11),\n",
       " ('seborrhea', 11),\n",
       " ('combination', 10),\n",
       " ('earache', 10),\n",
       " ('started', 10),\n",
       " ('bitterstrangechange', 9),\n",
       " ('brow', 9),\n",
       " ('dim', 9),\n",
       " ('dryingreddeningdarkening', 9),\n",
       " ('generally', 9),\n",
       " ('gums', 9),\n",
       " ('lightening', 9),\n",
       " ('niacinamide', 9),\n",
       " ('prescribed', 9),\n",
       " ('tendernesspain', 9),\n",
       " ('usual', 9),\n",
       " ('uva', 9),\n",
       " ('earthroat', 8),\n",
       " ('headaches', 8),\n",
       " ('irritationburning', 8),\n",
       " ('irritationpaindrynessredness', 8),\n",
       " ('soredry', 8),\n",
       " ('backbone', 7),\n",
       " ('corneal', 7),\n",
       " ('fingernails', 7),\n",
       " ('giving', 7),\n",
       " ('jawmusclebone', 7),\n",
       " ('lessened', 7),\n",
       " ('recommended', 7),\n",
       " ('sometimes', 7),\n",
       " ('spasm', 7),\n",
       " ('spottingbleeding', 7),\n",
       " ('toenails', 7),\n",
       " ('canal', 6),\n",
       " ('caused', 6),\n",
       " ('darunavir', 6),\n",
       " ('dermatitis', 6),\n",
       " ('drynessirritationscabbing', 6),\n",
       " ('flutamide', 6),\n",
       " ('infrequently', 6),\n",
       " ('irritationrednesspain', 6),\n",
       " ('medicine', 6),\n",
       " ('pimples', 6),\n",
       " ('rednessdiscomfortpainswelling', 6),\n",
       " ('rosacea', 6),\n",
       " ('anal', 5),\n",
       " ('burningstingingdiscomfort', 5),\n",
       " ('child', 5),\n",
       " ('corner', 5),\n",
       " ('food', 5),\n",
       " ('indigestion', 5),\n",
       " ('painburningredness', 5),\n",
       " ('sleepiness', 5),\n",
       " ('swellingrednessirritation', 5),\n",
       " ('tastes', 5),\n",
       " ('bodyfacial', 4),\n",
       " ('disturbances', 4),\n",
       " ('irritationblisteringtingling', 4),\n",
       " ('lie', 4),\n",
       " ('lumps', 4),\n",
       " ('nilutamide', 4),\n",
       " ('painrednesssoreness', 4),\n",
       " ('redsore', 4),\n",
       " ('serious', 4),\n",
       " ('sit', 4),\n",
       " ('sorenessrednessswellingbruising', 4),\n",
       " ('stingingdiscomfort', 4),\n",
       " ('waterydryitchyred', 4),\n",
       " ('way', 4),\n",
       " ('always', 3),\n",
       " ('causing', 3),\n",
       " ('certain', 3),\n",
       " ('changesloss', 3),\n",
       " ('difficult', 3),\n",
       " ('e', 3),\n",
       " ('hiv', 3),\n",
       " ('k', 3),\n",
       " ('since', 3),\n",
       " ('stop', 3),\n",
       " ('tape', 3),\n",
       " ('tickling', 3),\n",
       " ('whether', 3),\n",
       " ('anti', 2),\n",
       " ('arm', 2),\n",
       " ('arms', 2),\n",
       " ('ask', 2),\n",
       " ('bruisingbleeding', 2),\n",
       " ('drypeelingoily', 2),\n",
       " ('earnosethroat', 2),\n",
       " ('feeding', 2),\n",
       " ('infections', 2),\n",
       " ('nightmares', 2),\n",
       " ('painful', 2),\n",
       " ('persistent', 2),\n",
       " ('pyridoxine', 2),\n",
       " ('speaking', 2),\n",
       " ('tinglingburning', 2),\n",
       " ('twitching', 2),\n",
       " ('unlikely', 2),\n",
       " ('walkingclumsiness', 2),\n",
       " ('ways', 2),\n",
       " ('abilityinterest', 1),\n",
       " ('acidpaba', 1),\n",
       " ('aminobenzoic', 1),\n",
       " ('calcifediol', 1),\n",
       " ('clothing', 1),\n",
       " ('containing', 1),\n",
       " ('difficultpainfulfrequentbloody', 1),\n",
       " ('hardened', 1),\n",
       " ('limited', 1),\n",
       " ('lipsthroat', 1),\n",
       " ('male', 1),\n",
       " ('man', 1),\n",
       " ('musclebone', 1),\n",
       " ('numb', 1),\n",
       " ('oiliness', 1),\n",
       " ('painbruisingrednessswelling', 1),\n",
       " ('paindiscomfort', 1),\n",
       " ('painrednesswarmthbruisingswelling', 1),\n",
       " ('painsorenessrednessswelling', 1),\n",
       " ('paraaminobenzoic', 1),\n",
       " ('products', 1),\n",
       " ('sensitive', 1),\n",
       " ('sorespain', 1),\n",
       " ('stain', 1),\n",
       " ('sunscreen', 1),\n",
       " ('swallowing', 1),\n",
       " ('syndrome', 1),\n",
       " ('tastedryness', 1),\n",
       " ('tendernessenlargement', 1),\n",
       " ('upper', 1)]"
      ]
     },
     "execution_count": 36,
     "metadata": {},
     "output_type": "execute_result"
    }
   ],
   "source": [
    " sorted(result, key=lambda x: (-x[1], x[0]))"
   ]
  },
  {
   "cell_type": "markdown",
   "metadata": {},
   "source": [
    "_______________________________________________________________________________________________________________________________"
   ]
  },
  {
   "cell_type": "markdown",
   "metadata": {},
   "source": [
    "# Exploratory Data Analysis"
   ]
  },
  {
   "cell_type": "markdown",
   "metadata": {},
   "source": [
    "## Visual Representation of Age Distribution"
   ]
  },
  {
   "cell_type": "code",
   "execution_count": 37,
   "metadata": {},
   "outputs": [
    {
     "data": {
      "image/png": "[encoded data removed]",
      "text/plain": [
       "<Figure size 576x288 with 1 Axes>"
      ]
     },
     "metadata": {},
     "output_type": "display_data"
    }
   ],
   "source": [
    "data1 = df['Sex'].tolist()\n",
    "male=data1.count('Male')\n",
    "female=data1.count('Female')\n",
    "ax = df.Sex.value_counts().plot.pie(subplots = True,figsize = (8,4), title = \"Gender Distribution\");"
   ]
  },
  {
   "cell_type": "markdown",
   "metadata": {},
   "source": [
    "## Visual Representation of  Gender Distribution"
   ]
  },
  {
   "cell_type": "code",
   "execution_count": 38,
   "metadata": {},
   "outputs": [
    {
     "data": {
      "image/png": "[encoded data removed]",
      "text/plain": [
       "<Figure size 720x360 with 1 Axes>"
      ]
     },
     "metadata": {},
     "output_type": "display_data"
    }
   ],
   "source": [
    "ageColourful = df['Age'].value_counts().reset_index()\n",
    "ageColourful.columns = [\"Values\", \"Age\"]\n",
    "ageColourful\n",
    "\n",
    "# set style\n",
    "sns.set_style(\"whitegrid\");\n",
    "\n",
    "plt.figure(figsize = (10,5));\n",
    "sns.barplot(x = 'Values',y ='Age', data = ageColourful);\n",
    "plt.show();"
   ]
  },
  {
   "cell_type": "markdown",
   "metadata": {},
   "source": [
    "## Visual Representation of Effectiveness Rating"
   ]
  },
  {
   "cell_type": "code",
   "execution_count": 39,
   "metadata": {},
   "outputs": [
    {
     "data": {
      "image/png": "[encoded data removed]",
      "text/plain": [
       "<Figure size 720x360 with 1 Axes>"
      ]
     },
     "metadata": {},
     "output_type": "display_data"
    }
   ],
   "source": [
    "effectivenessRatingColourful = df['Effectiveness'].value_counts().reset_index()\n",
    "effectivenessRatingColourful.columns = [\"Ratings\", \"Effectiveness\"]\n",
    "effectivenessRatingColourful\n",
    "\n",
    "# set style\n",
    "sns.set_style(\"whitegrid\");\n",
    "\n",
    "plt.figure(figsize=(10,5));\n",
    "sns.barplot(x = 'Ratings',y = 'Effectiveness', data = effectivenessRatingColourful);\n",
    "plt.show();"
   ]
  },
  {
   "cell_type": "markdown",
   "metadata": {},
   "source": [
    "## Visual  Representation of EaseofUse Rating"
   ]
  },
  {
   "cell_type": "code",
   "execution_count": 40,
   "metadata": {
    "scrolled": true
   },
   "outputs": [
    {
     "data": {
      "image/png": "[encoded data removed]",
      "text/plain": [
       "<Figure size 720x360 with 1 Axes>"
      ]
     },
     "metadata": {},
     "output_type": "display_data"
    }
   ],
   "source": [
    "easeOfUseRatingColourful = df['EaseofUse'].value_counts().reset_index()\n",
    "easeOfUseRatingColourful.columns = [\"Ratings\", \"EaseofUse\"]\n",
    "easeOfUseRatingColourful\n",
    "\n",
    "# set style\n",
    "sns.set_style(\"whitegrid\");\n",
    "plt.figure(figsize = (10,5));\n",
    "sns.barplot(x = 'Ratings',y = \"EaseofUse\", data = easeOfUseRatingColourful);\n",
    "plt.show();"
   ]
  },
  {
   "cell_type": "markdown",
   "metadata": {},
   "source": [
    "_______________________________________________________________________________________________________________________________"
   ]
  },
  {
   "cell_type": "markdown",
   "metadata": {},
   "source": [
    "## Building Classification Model"
   ]
  },
  {
   "cell_type": "markdown",
   "metadata": {},
   "source": [
    "## One Hot Encoding"
   ]
  },
  {
   "cell_type": "code",
   "execution_count": 41,
   "metadata": {},
   "outputs": [],
   "source": [
    "le_age=LabelEncoder()\n",
    "le_DrugId=LabelEncoder()\n",
    "le_Sex=LabelEncoder()\n",
    "le_Condition=LabelEncoder()"
   ]
  },
  {
   "cell_type": "code",
   "execution_count": 42,
   "metadata": {},
   "outputs": [],
   "source": [
    "df['age_n']=le_age.fit_transform(df['Age_Group_number'])\n",
    "df['DrugId_n']=le_DrugId.fit_transform(df['DrugId'])\n",
    "df['Sex_n']=le_Sex.fit_transform(df['Sex'])\n",
    "df['condition_n']=le_Condition.fit_transform(df['Condition'])"
   ]
  },
  {
   "cell_type": "markdown",
   "metadata": {},
   "source": [
    "# Filter \"Side Effect\""
   ]
  },
  {
   "cell_type": "markdown",
   "metadata": {},
   "source": [
    "We are Gonna take 5 Random Side Effects for this model <br><br>\n",
    "1.Dizziness<br>\n",
    "2.Nausea<br>\n",
    "3.Drowsiness<br>\n",
    "4.Vomitting<br>\n",
    "5.Headache<br>"
   ]
  },
  {
   "cell_type": "code",
   "execution_count": 43,
   "metadata": {},
   "outputs": [],
   "source": [
    "SideEffect_Name=widgets.RadioButtons(\n",
    "            options=['dizziness', 'nausea', 'drowsiness','vomiting','headache'],\n",
    "            layout={'width': 'max-content'})"
   ]
  },
  {
   "cell_type": "markdown",
   "metadata": {},
   "source": [
    "Now we are gonna create a list of Side Effects from the Data set"
   ]
  },
  {
   "cell_type": "code",
   "execution_count": 44,
   "metadata": {},
   "outputs": [
    {
     "data": {
      "application/vnd.jupyter.widget-view+json": {
       "model_id": "995f6610a0354e1bae1ca95d3a5870c6",
       "version_major": 2,
       "version_minor": 0
      },
      "text/plain": [
       "RadioButtons(layout=Layout(width='max-content'), options=('dizziness', 'nausea', 'drowsiness', 'vomiting', 'he…"
      ]
     },
     "metadata": {},
     "output_type": "display_data"
    }
   ],
   "source": [
    "display(SideEffect_Name)"
   ]
  },
  {
   "cell_type": "code",
   "execution_count": 45,
   "metadata": {},
   "outputs": [
    {
     "data": {
      "text/plain": [
       "'dizziness'"
      ]
     },
     "execution_count": 45,
     "metadata": {},
     "output_type": "execute_result"
    }
   ],
   "source": [
    "SideEffect_Name.value"
   ]
  },
  {
   "cell_type": "markdown",
   "metadata": {},
   "source": [
    "Filter Only that Side Effect"
   ]
  },
  {
   "cell_type": "code",
   "execution_count": 46,
   "metadata": {},
   "outputs": [],
   "source": [
    "df=df[df['Sides'].str.contains(SideEffect_Name.value)] "
   ]
  },
  {
   "cell_type": "markdown",
   "metadata": {},
   "source": [
    "**Consider only useful reviews**"
   ]
  },
  {
   "cell_type": "markdown",
   "metadata": {},
   "source": [
    "**It will filter and display only those values which have drug name as \"Selected Drug name as per the user\"**"
   ]
  },
  {
   "cell_type": "code",
   "execution_count": 47,
   "metadata": {},
   "outputs": [],
   "source": [
    "df=df[df['UsefulCount']>1] "
   ]
  },
  {
   "cell_type": "code",
   "execution_count": 48,
   "metadata": {},
   "outputs": [
    {
     "data": {
      "text/html": [
       "<div>\n",
       "<style scoped>\n",
       "    .dataframe tbody tr th:only-of-type {\n",
       "        vertical-align: middle;\n",
       "    }\n",
       "\n",
       "    .dataframe tbody tr th {\n",
       "        vertical-align: top;\n",
       "    }\n",
       "\n",
       "    .dataframe thead th {\n",
       "        text-align: right;\n",
       "    }\n",
       "</style>\n",
       "<table border=\"1\" class=\"dataframe\">\n",
       "  <thead>\n",
       "    <tr style=\"text-align: right;\">\n",
       "      <th></th>\n",
       "      <th>Age</th>\n",
       "      <th>Condition</th>\n",
       "      <th>Date</th>\n",
       "      <th>Drug</th>\n",
       "      <th>DrugId</th>\n",
       "      <th>EaseofUse</th>\n",
       "      <th>Effectiveness</th>\n",
       "      <th>Reviews</th>\n",
       "      <th>Satisfaction</th>\n",
       "      <th>Sex</th>\n",
       "      <th>Sides</th>\n",
       "      <th>UsefulCount</th>\n",
       "      <th>Age_Group_number</th>\n",
       "      <th>age_n</th>\n",
       "      <th>DrugId_n</th>\n",
       "      <th>Sex_n</th>\n",
       "      <th>condition_n</th>\n",
       "    </tr>\n",
       "  </thead>\n",
       "  <tbody>\n",
       "    <tr>\n",
       "      <th>122</th>\n",
       "      <td>65-74</td>\n",
       "      <td>Cancer of Ovary in Patient with Germline BRCA ...</td>\n",
       "      <td>12/8/2016</td>\n",
       "      <td>lynparza tablet</td>\n",
       "      <td>167493</td>\n",
       "      <td>5</td>\n",
       "      <td>5</td>\n",
       "      <td>low hgb for the first  months but not as tired...</td>\n",
       "      <td>5</td>\n",
       "      <td>Female</td>\n",
       "      <td>nausea vomiting loss appetite diarrhea headach...</td>\n",
       "      <td>10</td>\n",
       "      <td>10</td>\n",
       "      <td>9</td>\n",
       "      <td>4256</td>\n",
       "      <td>0</td>\n",
       "      <td>291</td>\n",
       "    </tr>\n",
       "    <tr>\n",
       "      <th>123</th>\n",
       "      <td>45-54</td>\n",
       "      <td>Cancer of Ovary in Patient with Germline BRCA ...</td>\n",
       "      <td>7/13/2016</td>\n",
       "      <td>lynparza tablet</td>\n",
       "      <td>167493</td>\n",
       "      <td>5</td>\n",
       "      <td>5</td>\n",
       "      <td>prescribed lynparza after my firstline ivip ch...</td>\n",
       "      <td>5</td>\n",
       "      <td>Female</td>\n",
       "      <td>nausea vomiting loss appetite diarrhea headach...</td>\n",
       "      <td>18</td>\n",
       "      <td>8</td>\n",
       "      <td>7</td>\n",
       "      <td>4256</td>\n",
       "      <td>0</td>\n",
       "      <td>291</td>\n",
       "    </tr>\n",
       "    <tr>\n",
       "      <th>124</th>\n",
       "      <td>55-64</td>\n",
       "      <td>Cancer of Ovary in Patient with Germline BRCA ...</td>\n",
       "      <td>6/21/2016</td>\n",
       "      <td>lynparza tablet</td>\n",
       "      <td>167493</td>\n",
       "      <td>5</td>\n",
       "      <td>5</td>\n",
       "      <td>i take six pills twice a day and no food one h...</td>\n",
       "      <td>5</td>\n",
       "      <td>Female</td>\n",
       "      <td>nausea vomiting loss appetite diarrhea headach...</td>\n",
       "      <td>20</td>\n",
       "      <td>9</td>\n",
       "      <td>8</td>\n",
       "      <td>4256</td>\n",
       "      <td>0</td>\n",
       "      <td>291</td>\n",
       "    </tr>\n",
       "    <tr>\n",
       "      <th>125</th>\n",
       "      <td>45-54</td>\n",
       "      <td>Cancer of Ovary in Patient with Germline BRCA ...</td>\n",
       "      <td>5/23/2016</td>\n",
       "      <td>lynparza tablet</td>\n",
       "      <td>167493</td>\n",
       "      <td>5</td>\n",
       "      <td>5</td>\n",
       "      <td>only issue i am having is sun exposure rash on...</td>\n",
       "      <td>4</td>\n",
       "      <td>Female</td>\n",
       "      <td>nausea vomiting loss appetite diarrhea headach...</td>\n",
       "      <td>14</td>\n",
       "      <td>8</td>\n",
       "      <td>7</td>\n",
       "      <td>4256</td>\n",
       "      <td>0</td>\n",
       "      <td>291</td>\n",
       "    </tr>\n",
       "    <tr>\n",
       "      <th>178</th>\n",
       "      <td>65-74</td>\n",
       "      <td>Cancer of Ovary in Patient with Germline BRCA ...</td>\n",
       "      <td>12/8/2016</td>\n",
       "      <td>lynparza</td>\n",
       "      <td>167493</td>\n",
       "      <td>5</td>\n",
       "      <td>5</td>\n",
       "      <td>low hgb for the first  months but not as tired...</td>\n",
       "      <td>5</td>\n",
       "      <td>Female</td>\n",
       "      <td>nausea vomiting loss appetite diarrhea constip...</td>\n",
       "      <td>10</td>\n",
       "      <td>10</td>\n",
       "      <td>9</td>\n",
       "      <td>4256</td>\n",
       "      <td>0</td>\n",
       "      <td>291</td>\n",
       "    </tr>\n",
       "  </tbody>\n",
       "</table>\n",
       "</div>"
      ],
      "text/plain": [
       "       Age                                          Condition       Date  \\\n",
       "122  65-74  Cancer of Ovary in Patient with Germline BRCA ...  12/8/2016   \n",
       "123  45-54  Cancer of Ovary in Patient with Germline BRCA ...  7/13/2016   \n",
       "124  55-64  Cancer of Ovary in Patient with Germline BRCA ...  6/21/2016   \n",
       "125  45-54  Cancer of Ovary in Patient with Germline BRCA ...  5/23/2016   \n",
       "178  65-74  Cancer of Ovary in Patient with Germline BRCA ...  12/8/2016   \n",
       "\n",
       "                Drug  DrugId  EaseofUse  Effectiveness  \\\n",
       "122  lynparza tablet  167493          5              5   \n",
       "123  lynparza tablet  167493          5              5   \n",
       "124  lynparza tablet  167493          5              5   \n",
       "125  lynparza tablet  167493          5              5   \n",
       "178         lynparza  167493          5              5   \n",
       "\n",
       "                                               Reviews  Satisfaction     Sex  \\\n",
       "122  low hgb for the first  months but not as tired...             5  Female   \n",
       "123  prescribed lynparza after my firstline ivip ch...             5  Female   \n",
       "124  i take six pills twice a day and no food one h...             5  Female   \n",
       "125  only issue i am having is sun exposure rash on...             4  Female   \n",
       "178  low hgb for the first  months but not as tired...             5  Female   \n",
       "\n",
       "                                                 Sides  UsefulCount  \\\n",
       "122  nausea vomiting loss appetite diarrhea headach...           10   \n",
       "123  nausea vomiting loss appetite diarrhea headach...           18   \n",
       "124  nausea vomiting loss appetite diarrhea headach...           20   \n",
       "125  nausea vomiting loss appetite diarrhea headach...           14   \n",
       "178  nausea vomiting loss appetite diarrhea constip...           10   \n",
       "\n",
       "     Age_Group_number  age_n  DrugId_n  Sex_n  condition_n  \n",
       "122                10      9      4256      0          291  \n",
       "123                 8      7      4256      0          291  \n",
       "124                 9      8      4256      0          291  \n",
       "125                 8      7      4256      0          291  \n",
       "178                10      9      4256      0          291  "
      ]
     },
     "execution_count": 48,
     "metadata": {},
     "output_type": "execute_result"
    }
   ],
   "source": [
    "df.head()"
   ]
  },
  {
   "cell_type": "markdown",
   "metadata": {},
   "source": [
    "## Filter \"Drug Name\""
   ]
  },
  {
   "cell_type": "code",
   "execution_count": 49,
   "metadata": {},
   "outputs": [],
   "source": [
    "DrugList=df.Drug.value_counts().head(15)"
   ]
  },
  {
   "cell_type": "code",
   "execution_count": 50,
   "metadata": {},
   "outputs": [
    {
     "name": "stdout",
     "output_type": "stream",
     "text": [
      "{'lisinopril solution': 2888, 'lisinopril': 2888, 'lexapro': 2710, 'effexor xr': 2326, 'lyrica': 2095, 'tramadol hcl': 1750, 'tramadol hcl er': 1750, 'zoloft': 1743, 'topamax capsule, sprinkle': 1541, 'topamax': 1541, 'hydrocodone-acetaminophen': 1525, 'phentermine hcl': 1509, 'neurontin': 1460, 'neurontin capsule': 1460, 'trazodone hcl': 1421}\n"
     ]
    }
   ],
   "source": [
    "DrugList=DrugList.to_dict()\n",
    "print(DrugList)"
   ]
  },
  {
   "cell_type": "code",
   "execution_count": 51,
   "metadata": {},
   "outputs": [],
   "source": [
    "Drug_Name=widgets.Dropdown( options=DrugList.keys(),\n",
    "labels='Enter the name of the Drug: \\t',\n",
    "disabled=False,\n",
    ")"
   ]
  },
  {
   "cell_type": "code",
   "execution_count": 52,
   "metadata": {},
   "outputs": [
    {
     "data": {
      "application/vnd.jupyter.widget-view+json": {
       "model_id": "0d1de2cdbe8a4df29bd45655bf04251f",
       "version_major": 2,
       "version_minor": 0
      },
      "text/plain": [
       "Dropdown(options=('lisinopril solution', 'lisinopril', 'lexapro', 'effexor xr', 'lyrica', 'tramadol hcl', 'tra…"
      ]
     },
     "metadata": {},
     "output_type": "display_data"
    }
   ],
   "source": [
    "display(Drug_Name)"
   ]
  },
  {
   "cell_type": "code",
   "execution_count": 53,
   "metadata": {},
   "outputs": [
    {
     "data": {
      "text/plain": [
       "'lisinopril solution'"
      ]
     },
     "execution_count": 53,
     "metadata": {},
     "output_type": "execute_result"
    }
   ],
   "source": [
    "Drug_Name.value"
   ]
  },
  {
   "cell_type": "code",
   "execution_count": 54,
   "metadata": {},
   "outputs": [],
   "source": [
    "df = df[df['Drug'].isin([Drug_Name.value])]"
   ]
  },
  {
   "cell_type": "markdown",
   "metadata": {},
   "source": [
    "It will filter and display only those values which have drug name as \"Selected Drug name as per the user\""
   ]
  },
  {
   "cell_type": "code",
   "execution_count": 55,
   "metadata": {
    "scrolled": true
   },
   "outputs": [
    {
     "data": {
      "text/html": [
       "<div>\n",
       "<style scoped>\n",
       "    .dataframe tbody tr th:only-of-type {\n",
       "        vertical-align: middle;\n",
       "    }\n",
       "\n",
       "    .dataframe tbody tr th {\n",
       "        vertical-align: top;\n",
       "    }\n",
       "\n",
       "    .dataframe thead th {\n",
       "        text-align: right;\n",
       "    }\n",
       "</style>\n",
       "<table border=\"1\" class=\"dataframe\">\n",
       "  <thead>\n",
       "    <tr style=\"text-align: right;\">\n",
       "      <th></th>\n",
       "      <th>Age</th>\n",
       "      <th>Condition</th>\n",
       "      <th>Date</th>\n",
       "      <th>Drug</th>\n",
       "      <th>DrugId</th>\n",
       "      <th>EaseofUse</th>\n",
       "      <th>Effectiveness</th>\n",
       "      <th>Reviews</th>\n",
       "      <th>Satisfaction</th>\n",
       "      <th>Sex</th>\n",
       "      <th>Sides</th>\n",
       "      <th>UsefulCount</th>\n",
       "      <th>Age_Group_number</th>\n",
       "      <th>age_n</th>\n",
       "      <th>DrugId_n</th>\n",
       "      <th>Sex_n</th>\n",
       "      <th>condition_n</th>\n",
       "    </tr>\n",
       "  </thead>\n",
       "  <tbody>\n",
       "    <tr>\n",
       "      <th>9203</th>\n",
       "      <td>75 or over</td>\n",
       "      <td>High Blood Pressure</td>\n",
       "      <td>2/8/2020</td>\n",
       "      <td>lisinopril solution</td>\n",
       "      <td>6873</td>\n",
       "      <td>5</td>\n",
       "      <td>4</td>\n",
       "      <td>i have developed a very itch rash on my body f...</td>\n",
       "      <td>4</td>\n",
       "      <td>Female</td>\n",
       "      <td>dizziness lightheadedness tiredness headache m...</td>\n",
       "      <td>3</td>\n",
       "      <td>11</td>\n",
       "      <td>10</td>\n",
       "      <td>943</td>\n",
       "      <td>0</td>\n",
       "      <td>668</td>\n",
       "    </tr>\n",
       "    <tr>\n",
       "      <th>9209</th>\n",
       "      <td>55-64</td>\n",
       "      <td>High Blood Pressure</td>\n",
       "      <td>1/14/2020</td>\n",
       "      <td>lisinopril solution</td>\n",
       "      <td>6873</td>\n",
       "      <td>4</td>\n",
       "      <td>5</td>\n",
       "      <td>tried alternative medicine beet root hibiscus ...</td>\n",
       "      <td>4</td>\n",
       "      <td>Male</td>\n",
       "      <td>dizziness lightheadedness tiredness headache m...</td>\n",
       "      <td>3</td>\n",
       "      <td>9</td>\n",
       "      <td>8</td>\n",
       "      <td>943</td>\n",
       "      <td>1</td>\n",
       "      <td>668</td>\n",
       "    </tr>\n",
       "    <tr>\n",
       "      <th>9215</th>\n",
       "      <td>65-74</td>\n",
       "      <td>High Blood Pressure</td>\n",
       "      <td>10/17/2019</td>\n",
       "      <td>lisinopril solution</td>\n",
       "      <td>6873</td>\n",
       "      <td>5</td>\n",
       "      <td>5</td>\n",
       "      <td>have been taking  mg doses per day for over  y...</td>\n",
       "      <td>5</td>\n",
       "      <td>Male</td>\n",
       "      <td>dizziness lightheadedness tiredness headache m...</td>\n",
       "      <td>6</td>\n",
       "      <td>10</td>\n",
       "      <td>9</td>\n",
       "      <td>943</td>\n",
       "      <td>1</td>\n",
       "      <td>668</td>\n",
       "    </tr>\n",
       "    <tr>\n",
       "      <th>9221</th>\n",
       "      <td>55-64</td>\n",
       "      <td>High Blood Pressure</td>\n",
       "      <td>10/13/2019</td>\n",
       "      <td>lisinopril solution</td>\n",
       "      <td>6873</td>\n",
       "      <td>2</td>\n",
       "      <td>4</td>\n",
       "      <td>i dont like that im taking this and not knowin...</td>\n",
       "      <td>2</td>\n",
       "      <td>Male</td>\n",
       "      <td>dizziness lightheadedness tiredness headache m...</td>\n",
       "      <td>12</td>\n",
       "      <td>9</td>\n",
       "      <td>8</td>\n",
       "      <td>943</td>\n",
       "      <td>1</td>\n",
       "      <td>668</td>\n",
       "    </tr>\n",
       "    <tr>\n",
       "      <th>9227</th>\n",
       "      <td>55-64</td>\n",
       "      <td>High Blood Pressure</td>\n",
       "      <td>8/16/2019</td>\n",
       "      <td>lisinopril solution</td>\n",
       "      <td>6873</td>\n",
       "      <td>3</td>\n",
       "      <td>1</td>\n",
       "      <td>was on this medicine for about  months and hav...</td>\n",
       "      <td>1</td>\n",
       "      <td>Female</td>\n",
       "      <td>dizziness lightheadedness tiredness headache m...</td>\n",
       "      <td>22</td>\n",
       "      <td>9</td>\n",
       "      <td>8</td>\n",
       "      <td>943</td>\n",
       "      <td>0</td>\n",
       "      <td>668</td>\n",
       "    </tr>\n",
       "  </tbody>\n",
       "</table>\n",
       "</div>"
      ],
      "text/plain": [
       "             Age            Condition        Date                 Drug  \\\n",
       "9203  75 or over  High Blood Pressure    2/8/2020  lisinopril solution   \n",
       "9209       55-64  High Blood Pressure   1/14/2020  lisinopril solution   \n",
       "9215       65-74  High Blood Pressure  10/17/2019  lisinopril solution   \n",
       "9221       55-64  High Blood Pressure  10/13/2019  lisinopril solution   \n",
       "9227       55-64  High Blood Pressure   8/16/2019  lisinopril solution   \n",
       "\n",
       "      DrugId  EaseofUse  Effectiveness  \\\n",
       "9203    6873          5              4   \n",
       "9209    6873          4              5   \n",
       "9215    6873          5              5   \n",
       "9221    6873          2              4   \n",
       "9227    6873          3              1   \n",
       "\n",
       "                                                Reviews  Satisfaction     Sex  \\\n",
       "9203  i have developed a very itch rash on my body f...             4  Female   \n",
       "9209  tried alternative medicine beet root hibiscus ...             4    Male   \n",
       "9215  have been taking  mg doses per day for over  y...             5    Male   \n",
       "9221  i dont like that im taking this and not knowin...             2    Male   \n",
       "9227  was on this medicine for about  months and hav...             1  Female   \n",
       "\n",
       "                                                  Sides  UsefulCount  \\\n",
       "9203  dizziness lightheadedness tiredness headache m...            3   \n",
       "9209  dizziness lightheadedness tiredness headache m...            3   \n",
       "9215  dizziness lightheadedness tiredness headache m...            6   \n",
       "9221  dizziness lightheadedness tiredness headache m...           12   \n",
       "9227  dizziness lightheadedness tiredness headache m...           22   \n",
       "\n",
       "      Age_Group_number  age_n  DrugId_n  Sex_n  condition_n  \n",
       "9203                11     10       943      0          668  \n",
       "9209                 9      8       943      1          668  \n",
       "9215                10      9       943      1          668  \n",
       "9221                 9      8       943      1          668  \n",
       "9227                 9      8       943      0          668  "
      ]
     },
     "execution_count": 55,
     "metadata": {},
     "output_type": "execute_result"
    }
   ],
   "source": [
    "df.head()"
   ]
  },
  {
   "cell_type": "markdown",
   "metadata": {},
   "source": [
    "# Filter \"Gender\""
   ]
  },
  {
   "cell_type": "markdown",
   "metadata": {},
   "source": [
    "Select either in order to filter the gender <br>\n",
    "1. Male <br>\n",
    "or<br>\n",
    "2. Female<br>"
   ]
  },
  {
   "cell_type": "code",
   "execution_count": 56,
   "metadata": {},
   "outputs": [],
   "source": [
    "gender_opt=widgets.RadioButtons(\n",
    "            options=['Male', 'Female'],\n",
    "            layout={'width': 'max-content'})"
   ]
  },
  {
   "cell_type": "code",
   "execution_count": 58,
   "metadata": {},
   "outputs": [
    {
     "data": {
      "application/vnd.jupyter.widget-view+json": {
       "model_id": "02054a92265a405b9844be6efde756d3",
       "version_major": 2,
       "version_minor": 0
      },
      "text/plain": [
       "RadioButtons(index=1, layout=Layout(width='max-content'), options=('Male', 'Female'), value='Female')"
      ]
     },
     "metadata": {},
     "output_type": "display_data"
    }
   ],
   "source": [
    "display(gender_opt)"
   ]
  },
  {
   "cell_type": "code",
   "execution_count": 59,
   "metadata": {},
   "outputs": [
    {
     "data": {
      "text/plain": [
       "'Female'"
      ]
     },
     "execution_count": 59,
     "metadata": {},
     "output_type": "execute_result"
    }
   ],
   "source": [
    "gender_opt.value"
   ]
  },
  {
   "cell_type": "code",
   "execution_count": 60,
   "metadata": {},
   "outputs": [],
   "source": [
    "df=df[df['Sex'].str.contains(gender_opt.value)] "
   ]
  },
  {
   "cell_type": "code",
   "execution_count": 61,
   "metadata": {},
   "outputs": [
    {
     "data": {
      "text/html": [
       "<div>\n",
       "<style scoped>\n",
       "    .dataframe tbody tr th:only-of-type {\n",
       "        vertical-align: middle;\n",
       "    }\n",
       "\n",
       "    .dataframe tbody tr th {\n",
       "        vertical-align: top;\n",
       "    }\n",
       "\n",
       "    .dataframe thead th {\n",
       "        text-align: right;\n",
       "    }\n",
       "</style>\n",
       "<table border=\"1\" class=\"dataframe\">\n",
       "  <thead>\n",
       "    <tr style=\"text-align: right;\">\n",
       "      <th></th>\n",
       "      <th>Age</th>\n",
       "      <th>Condition</th>\n",
       "      <th>Date</th>\n",
       "      <th>Drug</th>\n",
       "      <th>DrugId</th>\n",
       "      <th>EaseofUse</th>\n",
       "      <th>Effectiveness</th>\n",
       "      <th>Reviews</th>\n",
       "      <th>Satisfaction</th>\n",
       "      <th>Sex</th>\n",
       "      <th>Sides</th>\n",
       "      <th>UsefulCount</th>\n",
       "      <th>Age_Group_number</th>\n",
       "      <th>age_n</th>\n",
       "      <th>DrugId_n</th>\n",
       "      <th>Sex_n</th>\n",
       "      <th>condition_n</th>\n",
       "    </tr>\n",
       "  </thead>\n",
       "  <tbody>\n",
       "    <tr>\n",
       "      <th>9203</th>\n",
       "      <td>75 or over</td>\n",
       "      <td>High Blood Pressure</td>\n",
       "      <td>2/8/2020</td>\n",
       "      <td>lisinopril solution</td>\n",
       "      <td>6873</td>\n",
       "      <td>5</td>\n",
       "      <td>4</td>\n",
       "      <td>i have developed a very itch rash on my body f...</td>\n",
       "      <td>4</td>\n",
       "      <td>Female</td>\n",
       "      <td>dizziness lightheadedness tiredness headache m...</td>\n",
       "      <td>3</td>\n",
       "      <td>11</td>\n",
       "      <td>10</td>\n",
       "      <td>943</td>\n",
       "      <td>0</td>\n",
       "      <td>668</td>\n",
       "    </tr>\n",
       "    <tr>\n",
       "      <th>9227</th>\n",
       "      <td>55-64</td>\n",
       "      <td>High Blood Pressure</td>\n",
       "      <td>8/16/2019</td>\n",
       "      <td>lisinopril solution</td>\n",
       "      <td>6873</td>\n",
       "      <td>3</td>\n",
       "      <td>1</td>\n",
       "      <td>was on this medicine for about  months and hav...</td>\n",
       "      <td>1</td>\n",
       "      <td>Female</td>\n",
       "      <td>dizziness lightheadedness tiredness headache m...</td>\n",
       "      <td>22</td>\n",
       "      <td>9</td>\n",
       "      <td>8</td>\n",
       "      <td>943</td>\n",
       "      <td>0</td>\n",
       "      <td>668</td>\n",
       "    </tr>\n",
       "    <tr>\n",
       "      <th>9233</th>\n",
       "      <td>25-34</td>\n",
       "      <td>High Blood Pressure</td>\n",
       "      <td>6/3/2019</td>\n",
       "      <td>lisinopril solution</td>\n",
       "      <td>6873</td>\n",
       "      <td>5</td>\n",
       "      <td>2</td>\n",
       "      <td>i was placed on a low dose of lisinopril after...</td>\n",
       "      <td>1</td>\n",
       "      <td>Female</td>\n",
       "      <td>dizziness lightheadedness tiredness headache m...</td>\n",
       "      <td>37</td>\n",
       "      <td>6</td>\n",
       "      <td>5</td>\n",
       "      <td>943</td>\n",
       "      <td>0</td>\n",
       "      <td>668</td>\n",
       "    </tr>\n",
       "    <tr>\n",
       "      <th>9239</th>\n",
       "      <td>35-44</td>\n",
       "      <td>Other</td>\n",
       "      <td>6/2/2019</td>\n",
       "      <td>lisinopril solution</td>\n",
       "      <td>6873</td>\n",
       "      <td>5</td>\n",
       "      <td>5</td>\n",
       "      <td>no script or health insurance needed to place ...</td>\n",
       "      <td>5</td>\n",
       "      <td>Female</td>\n",
       "      <td>dizziness lightheadedness tiredness headache m...</td>\n",
       "      <td>24</td>\n",
       "      <td>7</td>\n",
       "      <td>6</td>\n",
       "      <td>943</td>\n",
       "      <td>0</td>\n",
       "      <td>1045</td>\n",
       "    </tr>\n",
       "    <tr>\n",
       "      <th>9251</th>\n",
       "      <td>65-74</td>\n",
       "      <td>High Blood Pressure</td>\n",
       "      <td>5/6/2019</td>\n",
       "      <td>lisinopril solution</td>\n",
       "      <td>6873</td>\n",
       "      <td>3</td>\n",
       "      <td>2</td>\n",
       "      <td>i just started taking it</td>\n",
       "      <td>2</td>\n",
       "      <td>Female</td>\n",
       "      <td>dizziness lightheadedness tiredness headache m...</td>\n",
       "      <td>4</td>\n",
       "      <td>10</td>\n",
       "      <td>9</td>\n",
       "      <td>943</td>\n",
       "      <td>0</td>\n",
       "      <td>668</td>\n",
       "    </tr>\n",
       "  </tbody>\n",
       "</table>\n",
       "</div>"
      ],
      "text/plain": [
       "             Age            Condition       Date                 Drug  DrugId  \\\n",
       "9203  75 or over  High Blood Pressure   2/8/2020  lisinopril solution    6873   \n",
       "9227       55-64  High Blood Pressure  8/16/2019  lisinopril solution    6873   \n",
       "9233       25-34  High Blood Pressure   6/3/2019  lisinopril solution    6873   \n",
       "9239       35-44                Other   6/2/2019  lisinopril solution    6873   \n",
       "9251       65-74  High Blood Pressure   5/6/2019  lisinopril solution    6873   \n",
       "\n",
       "      EaseofUse  Effectiveness  \\\n",
       "9203          5              4   \n",
       "9227          3              1   \n",
       "9233          5              2   \n",
       "9239          5              5   \n",
       "9251          3              2   \n",
       "\n",
       "                                                Reviews  Satisfaction     Sex  \\\n",
       "9203  i have developed a very itch rash on my body f...             4  Female   \n",
       "9227  was on this medicine for about  months and hav...             1  Female   \n",
       "9233  i was placed on a low dose of lisinopril after...             1  Female   \n",
       "9239  no script or health insurance needed to place ...             5  Female   \n",
       "9251                           i just started taking it             2  Female   \n",
       "\n",
       "                                                  Sides  UsefulCount  \\\n",
       "9203  dizziness lightheadedness tiredness headache m...            3   \n",
       "9227  dizziness lightheadedness tiredness headache m...           22   \n",
       "9233  dizziness lightheadedness tiredness headache m...           37   \n",
       "9239  dizziness lightheadedness tiredness headache m...           24   \n",
       "9251  dizziness lightheadedness tiredness headache m...            4   \n",
       "\n",
       "      Age_Group_number  age_n  DrugId_n  Sex_n  condition_n  \n",
       "9203                11     10       943      0          668  \n",
       "9227                 9      8       943      0          668  \n",
       "9233                 6      5       943      0          668  \n",
       "9239                 7      6       943      0         1045  \n",
       "9251                10      9       943      0          668  "
      ]
     },
     "execution_count": 61,
     "metadata": {},
     "output_type": "execute_result"
    }
   ],
   "source": [
    "df.head()"
   ]
  },
  {
   "cell_type": "markdown",
   "metadata": {},
   "source": [
    "## Converting data type of \"Reviews\" column  "
   ]
  },
  {
   "cell_type": "code",
   "execution_count": 62,
   "metadata": {},
   "outputs": [],
   "source": [
    "df['Reviews'] = df['Reviews'].astype(str)"
   ]
  },
  {
   "cell_type": "code",
   "execution_count": 63,
   "metadata": {},
   "outputs": [
    {
     "data": {
      "text/html": [
       "<div>\n",
       "<style scoped>\n",
       "    .dataframe tbody tr th:only-of-type {\n",
       "        vertical-align: middle;\n",
       "    }\n",
       "\n",
       "    .dataframe tbody tr th {\n",
       "        vertical-align: top;\n",
       "    }\n",
       "\n",
       "    .dataframe thead th {\n",
       "        text-align: right;\n",
       "    }\n",
       "</style>\n",
       "<table border=\"1\" class=\"dataframe\">\n",
       "  <thead>\n",
       "    <tr style=\"text-align: right;\">\n",
       "      <th></th>\n",
       "      <th>Age</th>\n",
       "      <th>Condition</th>\n",
       "      <th>Date</th>\n",
       "      <th>Drug</th>\n",
       "      <th>DrugId</th>\n",
       "      <th>EaseofUse</th>\n",
       "      <th>Effectiveness</th>\n",
       "      <th>Reviews</th>\n",
       "      <th>Satisfaction</th>\n",
       "      <th>Sex</th>\n",
       "      <th>Sides</th>\n",
       "      <th>UsefulCount</th>\n",
       "      <th>Age_Group_number</th>\n",
       "      <th>age_n</th>\n",
       "      <th>DrugId_n</th>\n",
       "      <th>Sex_n</th>\n",
       "      <th>condition_n</th>\n",
       "    </tr>\n",
       "  </thead>\n",
       "  <tbody>\n",
       "    <tr>\n",
       "      <th>9203</th>\n",
       "      <td>75 or over</td>\n",
       "      <td>High Blood Pressure</td>\n",
       "      <td>2/8/2020</td>\n",
       "      <td>lisinopril solution</td>\n",
       "      <td>6873</td>\n",
       "      <td>5</td>\n",
       "      <td>4</td>\n",
       "      <td>i have developed a very itch rash on my body f...</td>\n",
       "      <td>4</td>\n",
       "      <td>Female</td>\n",
       "      <td>dizziness lightheadedness tiredness headache m...</td>\n",
       "      <td>3</td>\n",
       "      <td>11</td>\n",
       "      <td>10</td>\n",
       "      <td>943</td>\n",
       "      <td>0</td>\n",
       "      <td>668</td>\n",
       "    </tr>\n",
       "  </tbody>\n",
       "</table>\n",
       "</div>"
      ],
      "text/plain": [
       "             Age            Condition      Date                 Drug  DrugId  \\\n",
       "9203  75 or over  High Blood Pressure  2/8/2020  lisinopril solution    6873   \n",
       "\n",
       "      EaseofUse  Effectiveness  \\\n",
       "9203          5              4   \n",
       "\n",
       "                                                Reviews  Satisfaction     Sex  \\\n",
       "9203  i have developed a very itch rash on my body f...             4  Female   \n",
       "\n",
       "                                                  Sides  UsefulCount  \\\n",
       "9203  dizziness lightheadedness tiredness headache m...            3   \n",
       "\n",
       "      Age_Group_number  age_n  DrugId_n  Sex_n  condition_n  \n",
       "9203                11     10       943      0          668  "
      ]
     },
     "execution_count": 63,
     "metadata": {},
     "output_type": "execute_result"
    }
   ],
   "source": [
    "df.head(1)"
   ]
  },
  {
   "cell_type": "code",
   "execution_count": 64,
   "metadata": {},
   "outputs": [],
   "source": [
    "def sentiment_calc(text):\n",
    "    try:\n",
    "        return TextBlob(text).sentiment.polarity\n",
    "    except:\n",
    "        return None\n",
    "\n",
    "df['sentiment'] = df['Reviews'].apply(sentiment_calc)"
   ]
  },
  {
   "cell_type": "code",
   "execution_count": 65,
   "metadata": {},
   "outputs": [
    {
     "data": {
      "text/plain": [
       "9203    0.04375\n",
       "9227   -0.17000\n",
       "9233   -0.04376\n",
       "9239    0.30000\n",
       "9251    0.00000\n",
       "Name: sentiment, dtype: float64"
      ]
     },
     "execution_count": 65,
     "metadata": {},
     "output_type": "execute_result"
    }
   ],
   "source": [
    "df.sentiment.head()"
   ]
  },
  {
   "cell_type": "code",
   "execution_count": 66,
   "metadata": {},
   "outputs": [],
   "source": [
    "def getAnalysis(score):\n",
    "  if score < 0:\n",
    "    return 'Negative'\n",
    "  elif score == 0:\n",
    "    return 'Neutral'\n",
    "  else:\n",
    "    return 'Positive'\n",
    "\n",
    "df ['Review_Sentiment'] = df['sentiment'].apply(getAnalysis )"
   ]
  },
  {
   "cell_type": "markdown",
   "metadata": {},
   "source": [
    "Here we are categorising Side effects in terms of following two score :-<br>\n",
    "1. Score < 0 - Negative (Which indicates that the patient did suffer side effects using the Drug)\n",
    "2. Score > 0 - Positive and Neutral (Which indicates that the patient did not suffer any side effects using the Drug)"
   ]
  },
  {
   "cell_type": "markdown",
   "metadata": {},
   "source": [
    "Side-effect prediction based on sentiment score and store it in a new column"
   ]
  },
  {
   "cell_type": "code",
   "execution_count": 67,
   "metadata": {},
   "outputs": [],
   "source": [
    "def getAnalysis(score):\n",
    "  if score < 0:\n",
    "    return 1\n",
    "  else:\n",
    "    return 0\n",
    "\n",
    "df ['Review_Score'] = df['sentiment'].apply(getAnalysis )"
   ]
  },
  {
   "cell_type": "markdown",
   "metadata": {},
   "source": [
    "Here we are storing the values (0 and 1) which will indicate if the patient suffer from side effect or not <br>\\\n",
    "0 (Positive) - Patient did not suffer any side effects <br>\n",
    "1 (Negative) - Patient did suffer side effects <br>"
   ]
  },
  {
   "cell_type": "code",
   "execution_count": 68,
   "metadata": {},
   "outputs": [
    {
     "data": {
      "text/html": [
       "<div>\n",
       "<style scoped>\n",
       "    .dataframe tbody tr th:only-of-type {\n",
       "        vertical-align: middle;\n",
       "    }\n",
       "\n",
       "    .dataframe tbody tr th {\n",
       "        vertical-align: top;\n",
       "    }\n",
       "\n",
       "    .dataframe thead th {\n",
       "        text-align: right;\n",
       "    }\n",
       "</style>\n",
       "<table border=\"1\" class=\"dataframe\">\n",
       "  <thead>\n",
       "    <tr style=\"text-align: right;\">\n",
       "      <th></th>\n",
       "      <th>Age</th>\n",
       "      <th>Condition</th>\n",
       "      <th>Date</th>\n",
       "      <th>Drug</th>\n",
       "      <th>DrugId</th>\n",
       "      <th>EaseofUse</th>\n",
       "      <th>Effectiveness</th>\n",
       "      <th>Reviews</th>\n",
       "      <th>Satisfaction</th>\n",
       "      <th>Sex</th>\n",
       "      <th>Sides</th>\n",
       "      <th>UsefulCount</th>\n",
       "      <th>Age_Group_number</th>\n",
       "      <th>age_n</th>\n",
       "      <th>DrugId_n</th>\n",
       "      <th>Sex_n</th>\n",
       "      <th>condition_n</th>\n",
       "      <th>sentiment</th>\n",
       "      <th>Review_Sentiment</th>\n",
       "      <th>Review_Score</th>\n",
       "    </tr>\n",
       "  </thead>\n",
       "  <tbody>\n",
       "    <tr>\n",
       "      <th>9203</th>\n",
       "      <td>75 or over</td>\n",
       "      <td>High Blood Pressure</td>\n",
       "      <td>2/8/2020</td>\n",
       "      <td>lisinopril solution</td>\n",
       "      <td>6873</td>\n",
       "      <td>5</td>\n",
       "      <td>4</td>\n",
       "      <td>i have developed a very itch rash on my body f...</td>\n",
       "      <td>4</td>\n",
       "      <td>Female</td>\n",
       "      <td>dizziness lightheadedness tiredness headache m...</td>\n",
       "      <td>3</td>\n",
       "      <td>11</td>\n",
       "      <td>10</td>\n",
       "      <td>943</td>\n",
       "      <td>0</td>\n",
       "      <td>668</td>\n",
       "      <td>0.04375</td>\n",
       "      <td>Positive</td>\n",
       "      <td>0</td>\n",
       "    </tr>\n",
       "    <tr>\n",
       "      <th>9227</th>\n",
       "      <td>55-64</td>\n",
       "      <td>High Blood Pressure</td>\n",
       "      <td>8/16/2019</td>\n",
       "      <td>lisinopril solution</td>\n",
       "      <td>6873</td>\n",
       "      <td>3</td>\n",
       "      <td>1</td>\n",
       "      <td>was on this medicine for about  months and hav...</td>\n",
       "      <td>1</td>\n",
       "      <td>Female</td>\n",
       "      <td>dizziness lightheadedness tiredness headache m...</td>\n",
       "      <td>22</td>\n",
       "      <td>9</td>\n",
       "      <td>8</td>\n",
       "      <td>943</td>\n",
       "      <td>0</td>\n",
       "      <td>668</td>\n",
       "      <td>-0.17000</td>\n",
       "      <td>Negative</td>\n",
       "      <td>1</td>\n",
       "    </tr>\n",
       "    <tr>\n",
       "      <th>9233</th>\n",
       "      <td>25-34</td>\n",
       "      <td>High Blood Pressure</td>\n",
       "      <td>6/3/2019</td>\n",
       "      <td>lisinopril solution</td>\n",
       "      <td>6873</td>\n",
       "      <td>5</td>\n",
       "      <td>2</td>\n",
       "      <td>i was placed on a low dose of lisinopril after...</td>\n",
       "      <td>1</td>\n",
       "      <td>Female</td>\n",
       "      <td>dizziness lightheadedness tiredness headache m...</td>\n",
       "      <td>37</td>\n",
       "      <td>6</td>\n",
       "      <td>5</td>\n",
       "      <td>943</td>\n",
       "      <td>0</td>\n",
       "      <td>668</td>\n",
       "      <td>-0.04376</td>\n",
       "      <td>Negative</td>\n",
       "      <td>1</td>\n",
       "    </tr>\n",
       "    <tr>\n",
       "      <th>9239</th>\n",
       "      <td>35-44</td>\n",
       "      <td>Other</td>\n",
       "      <td>6/2/2019</td>\n",
       "      <td>lisinopril solution</td>\n",
       "      <td>6873</td>\n",
       "      <td>5</td>\n",
       "      <td>5</td>\n",
       "      <td>no script or health insurance needed to place ...</td>\n",
       "      <td>5</td>\n",
       "      <td>Female</td>\n",
       "      <td>dizziness lightheadedness tiredness headache m...</td>\n",
       "      <td>24</td>\n",
       "      <td>7</td>\n",
       "      <td>6</td>\n",
       "      <td>943</td>\n",
       "      <td>0</td>\n",
       "      <td>1045</td>\n",
       "      <td>0.30000</td>\n",
       "      <td>Positive</td>\n",
       "      <td>0</td>\n",
       "    </tr>\n",
       "    <tr>\n",
       "      <th>9251</th>\n",
       "      <td>65-74</td>\n",
       "      <td>High Blood Pressure</td>\n",
       "      <td>5/6/2019</td>\n",
       "      <td>lisinopril solution</td>\n",
       "      <td>6873</td>\n",
       "      <td>3</td>\n",
       "      <td>2</td>\n",
       "      <td>i just started taking it</td>\n",
       "      <td>2</td>\n",
       "      <td>Female</td>\n",
       "      <td>dizziness lightheadedness tiredness headache m...</td>\n",
       "      <td>4</td>\n",
       "      <td>10</td>\n",
       "      <td>9</td>\n",
       "      <td>943</td>\n",
       "      <td>0</td>\n",
       "      <td>668</td>\n",
       "      <td>0.00000</td>\n",
       "      <td>Neutral</td>\n",
       "      <td>0</td>\n",
       "    </tr>\n",
       "  </tbody>\n",
       "</table>\n",
       "</div>"
      ],
      "text/plain": [
       "             Age            Condition       Date                 Drug  DrugId  \\\n",
       "9203  75 or over  High Blood Pressure   2/8/2020  lisinopril solution    6873   \n",
       "9227       55-64  High Blood Pressure  8/16/2019  lisinopril solution    6873   \n",
       "9233       25-34  High Blood Pressure   6/3/2019  lisinopril solution    6873   \n",
       "9239       35-44                Other   6/2/2019  lisinopril solution    6873   \n",
       "9251       65-74  High Blood Pressure   5/6/2019  lisinopril solution    6873   \n",
       "\n",
       "      EaseofUse  Effectiveness  \\\n",
       "9203          5              4   \n",
       "9227          3              1   \n",
       "9233          5              2   \n",
       "9239          5              5   \n",
       "9251          3              2   \n",
       "\n",
       "                                                Reviews  Satisfaction     Sex  \\\n",
       "9203  i have developed a very itch rash on my body f...             4  Female   \n",
       "9227  was on this medicine for about  months and hav...             1  Female   \n",
       "9233  i was placed on a low dose of lisinopril after...             1  Female   \n",
       "9239  no script or health insurance needed to place ...             5  Female   \n",
       "9251                           i just started taking it             2  Female   \n",
       "\n",
       "                                                  Sides  UsefulCount  \\\n",
       "9203  dizziness lightheadedness tiredness headache m...            3   \n",
       "9227  dizziness lightheadedness tiredness headache m...           22   \n",
       "9233  dizziness lightheadedness tiredness headache m...           37   \n",
       "9239  dizziness lightheadedness tiredness headache m...           24   \n",
       "9251  dizziness lightheadedness tiredness headache m...            4   \n",
       "\n",
       "      Age_Group_number  age_n  DrugId_n  Sex_n  condition_n  sentiment  \\\n",
       "9203                11     10       943      0          668    0.04375   \n",
       "9227                 9      8       943      0          668   -0.17000   \n",
       "9233                 6      5       943      0          668   -0.04376   \n",
       "9239                 7      6       943      0         1045    0.30000   \n",
       "9251                10      9       943      0          668    0.00000   \n",
       "\n",
       "     Review_Sentiment  Review_Score  \n",
       "9203         Positive             0  \n",
       "9227         Negative             1  \n",
       "9233         Negative             1  \n",
       "9239         Positive             0  \n",
       "9251          Neutral             0  "
      ]
     },
     "execution_count": 68,
     "metadata": {},
     "output_type": "execute_result"
    }
   ],
   "source": [
    "df.head(5)"
   ]
  },
  {
   "cell_type": "markdown",
   "metadata": {},
   "source": [
    "# Negative Reviews age wise"
   ]
  },
  {
   "cell_type": "code",
   "execution_count": 69,
   "metadata": {},
   "outputs": [],
   "source": [
    "df_3=df[df.Review_Sentiment==\"Negative\"]"
   ]
  },
  {
   "cell_type": "code",
   "execution_count": 70,
   "metadata": {},
   "outputs": [
    {
     "name": "stdout",
     "output_type": "stream",
     "text": [
      "55-64         242\n",
      "45-54         242\n",
      "65-74         132\n",
      "35-44         116\n",
      "75 or over     47\n",
      "25-34          39\n",
      "19-24           2\n",
      "13-18           1\n",
      "Name: Age, dtype: int64\n"
     ]
    }
   ],
   "source": [
    "print(df_3[\"Age\"].value_counts())"
   ]
  },
  {
   "cell_type": "markdown",
   "metadata": {},
   "source": [
    "**Total Reviews**"
   ]
  },
  {
   "cell_type": "code",
   "execution_count": 71,
   "metadata": {},
   "outputs": [
    {
     "name": "stdout",
     "output_type": "stream",
     "text": [
      "55-64         539\n",
      "45-54         530\n",
      "65-74         300\n",
      "35-44         261\n",
      "75 or over    103\n",
      "25-34          97\n",
      "19-24          11\n",
      "13-18           2\n",
      "Name: Age, dtype: int64\n"
     ]
    }
   ],
   "source": [
    "print(df[\"Age\"].value_counts())"
   ]
  },
  {
   "cell_type": "markdown",
   "metadata": {},
   "source": [
    "# Building a Logistic Regression Model "
   ]
  },
  {
   "cell_type": "code",
   "execution_count": 72,
   "metadata": {},
   "outputs": [],
   "source": [
    "logModel = LogisticRegression()"
   ]
  },
  {
   "cell_type": "markdown",
   "metadata": {},
   "source": [
    "Testing "
   ]
  },
  {
   "cell_type": "code",
   "execution_count": 73,
   "metadata": {},
   "outputs": [],
   "source": [
    "X_var = df[['EaseofUse','Effectiveness','Satisfaction','Sex_n','Age_Group_number']].values # independent variable\n",
    "y_var = df['Review_Score'].values # dependent variable"
   ]
  },
  {
   "cell_type": "markdown",
   "metadata": {},
   "source": [
    "Train - Test Split"
   ]
  },
  {
   "cell_type": "markdown",
   "metadata": {},
   "source": [
    "Dropping the whole index column"
   ]
  },
  {
   "cell_type": "code",
   "execution_count": 74,
   "metadata": {},
   "outputs": [],
   "source": [
    "df.reset_index(drop=True, inplace=True)"
   ]
  },
  {
   "cell_type": "markdown",
   "metadata": {},
   "source": [
    "Adding and reseting the index column"
   ]
  },
  {
   "cell_type": "code",
   "execution_count": 75,
   "metadata": {},
   "outputs": [
    {
     "data": {
      "text/html": [
       "<div>\n",
       "<style scoped>\n",
       "    .dataframe tbody tr th:only-of-type {\n",
       "        vertical-align: middle;\n",
       "    }\n",
       "\n",
       "    .dataframe tbody tr th {\n",
       "        vertical-align: top;\n",
       "    }\n",
       "\n",
       "    .dataframe thead th {\n",
       "        text-align: right;\n",
       "    }\n",
       "</style>\n",
       "<table border=\"1\" class=\"dataframe\">\n",
       "  <thead>\n",
       "    <tr style=\"text-align: right;\">\n",
       "      <th></th>\n",
       "      <th>index</th>\n",
       "      <th>Age</th>\n",
       "      <th>Condition</th>\n",
       "      <th>Date</th>\n",
       "      <th>Drug</th>\n",
       "      <th>DrugId</th>\n",
       "      <th>EaseofUse</th>\n",
       "      <th>Effectiveness</th>\n",
       "      <th>Reviews</th>\n",
       "      <th>Satisfaction</th>\n",
       "      <th>...</th>\n",
       "      <th>Sides</th>\n",
       "      <th>UsefulCount</th>\n",
       "      <th>Age_Group_number</th>\n",
       "      <th>age_n</th>\n",
       "      <th>DrugId_n</th>\n",
       "      <th>Sex_n</th>\n",
       "      <th>condition_n</th>\n",
       "      <th>sentiment</th>\n",
       "      <th>Review_Sentiment</th>\n",
       "      <th>Review_Score</th>\n",
       "    </tr>\n",
       "  </thead>\n",
       "  <tbody>\n",
       "    <tr>\n",
       "      <th>0</th>\n",
       "      <td>0</td>\n",
       "      <td>75 or over</td>\n",
       "      <td>High Blood Pressure</td>\n",
       "      <td>2/8/2020</td>\n",
       "      <td>lisinopril solution</td>\n",
       "      <td>6873</td>\n",
       "      <td>5</td>\n",
       "      <td>4</td>\n",
       "      <td>i have developed a very itch rash on my body f...</td>\n",
       "      <td>4</td>\n",
       "      <td>...</td>\n",
       "      <td>dizziness lightheadedness tiredness headache m...</td>\n",
       "      <td>3</td>\n",
       "      <td>11</td>\n",
       "      <td>10</td>\n",
       "      <td>943</td>\n",
       "      <td>0</td>\n",
       "      <td>668</td>\n",
       "      <td>0.043750</td>\n",
       "      <td>Positive</td>\n",
       "      <td>0</td>\n",
       "    </tr>\n",
       "    <tr>\n",
       "      <th>1</th>\n",
       "      <td>1</td>\n",
       "      <td>55-64</td>\n",
       "      <td>High Blood Pressure</td>\n",
       "      <td>8/16/2019</td>\n",
       "      <td>lisinopril solution</td>\n",
       "      <td>6873</td>\n",
       "      <td>3</td>\n",
       "      <td>1</td>\n",
       "      <td>was on this medicine for about  months and hav...</td>\n",
       "      <td>1</td>\n",
       "      <td>...</td>\n",
       "      <td>dizziness lightheadedness tiredness headache m...</td>\n",
       "      <td>22</td>\n",
       "      <td>9</td>\n",
       "      <td>8</td>\n",
       "      <td>943</td>\n",
       "      <td>0</td>\n",
       "      <td>668</td>\n",
       "      <td>-0.170000</td>\n",
       "      <td>Negative</td>\n",
       "      <td>1</td>\n",
       "    </tr>\n",
       "    <tr>\n",
       "      <th>2</th>\n",
       "      <td>2</td>\n",
       "      <td>25-34</td>\n",
       "      <td>High Blood Pressure</td>\n",
       "      <td>6/3/2019</td>\n",
       "      <td>lisinopril solution</td>\n",
       "      <td>6873</td>\n",
       "      <td>5</td>\n",
       "      <td>2</td>\n",
       "      <td>i was placed on a low dose of lisinopril after...</td>\n",
       "      <td>1</td>\n",
       "      <td>...</td>\n",
       "      <td>dizziness lightheadedness tiredness headache m...</td>\n",
       "      <td>37</td>\n",
       "      <td>6</td>\n",
       "      <td>5</td>\n",
       "      <td>943</td>\n",
       "      <td>0</td>\n",
       "      <td>668</td>\n",
       "      <td>-0.043760</td>\n",
       "      <td>Negative</td>\n",
       "      <td>1</td>\n",
       "    </tr>\n",
       "    <tr>\n",
       "      <th>3</th>\n",
       "      <td>3</td>\n",
       "      <td>35-44</td>\n",
       "      <td>Other</td>\n",
       "      <td>6/2/2019</td>\n",
       "      <td>lisinopril solution</td>\n",
       "      <td>6873</td>\n",
       "      <td>5</td>\n",
       "      <td>5</td>\n",
       "      <td>no script or health insurance needed to place ...</td>\n",
       "      <td>5</td>\n",
       "      <td>...</td>\n",
       "      <td>dizziness lightheadedness tiredness headache m...</td>\n",
       "      <td>24</td>\n",
       "      <td>7</td>\n",
       "      <td>6</td>\n",
       "      <td>943</td>\n",
       "      <td>0</td>\n",
       "      <td>1045</td>\n",
       "      <td>0.300000</td>\n",
       "      <td>Positive</td>\n",
       "      <td>0</td>\n",
       "    </tr>\n",
       "    <tr>\n",
       "      <th>4</th>\n",
       "      <td>4</td>\n",
       "      <td>65-74</td>\n",
       "      <td>High Blood Pressure</td>\n",
       "      <td>5/6/2019</td>\n",
       "      <td>lisinopril solution</td>\n",
       "      <td>6873</td>\n",
       "      <td>3</td>\n",
       "      <td>2</td>\n",
       "      <td>i just started taking it</td>\n",
       "      <td>2</td>\n",
       "      <td>...</td>\n",
       "      <td>dizziness lightheadedness tiredness headache m...</td>\n",
       "      <td>4</td>\n",
       "      <td>10</td>\n",
       "      <td>9</td>\n",
       "      <td>943</td>\n",
       "      <td>0</td>\n",
       "      <td>668</td>\n",
       "      <td>0.000000</td>\n",
       "      <td>Neutral</td>\n",
       "      <td>0</td>\n",
       "    </tr>\n",
       "    <tr>\n",
       "      <th>...</th>\n",
       "      <td>...</td>\n",
       "      <td>...</td>\n",
       "      <td>...</td>\n",
       "      <td>...</td>\n",
       "      <td>...</td>\n",
       "      <td>...</td>\n",
       "      <td>...</td>\n",
       "      <td>...</td>\n",
       "      <td>...</td>\n",
       "      <td>...</td>\n",
       "      <td>...</td>\n",
       "      <td>...</td>\n",
       "      <td>...</td>\n",
       "      <td>...</td>\n",
       "      <td>...</td>\n",
       "      <td>...</td>\n",
       "      <td>...</td>\n",
       "      <td>...</td>\n",
       "      <td>...</td>\n",
       "      <td>...</td>\n",
       "      <td>...</td>\n",
       "    </tr>\n",
       "    <tr>\n",
       "      <th>1838</th>\n",
       "      <td>1838</td>\n",
       "      <td>35-44</td>\n",
       "      <td>High Blood Pressure</td>\n",
       "      <td>5/2/2011</td>\n",
       "      <td>lisinopril solution</td>\n",
       "      <td>6873</td>\n",
       "      <td>5</td>\n",
       "      <td>4</td>\n",
       "      <td>today is my  day on lisinopril  so far so good...</td>\n",
       "      <td>4</td>\n",
       "      <td>...</td>\n",
       "      <td>dizziness lightheadedness tiredness headache m...</td>\n",
       "      <td>4</td>\n",
       "      <td>7</td>\n",
       "      <td>6</td>\n",
       "      <td>943</td>\n",
       "      <td>0</td>\n",
       "      <td>668</td>\n",
       "      <td>0.250000</td>\n",
       "      <td>Positive</td>\n",
       "      <td>0</td>\n",
       "    </tr>\n",
       "    <tr>\n",
       "      <th>1839</th>\n",
       "      <td>1839</td>\n",
       "      <td>25-34</td>\n",
       "      <td>High Blood Pressure</td>\n",
       "      <td>5/1/2011</td>\n",
       "      <td>lisinopril solution</td>\n",
       "      <td>6873</td>\n",
       "      <td>5</td>\n",
       "      <td>3</td>\n",
       "      <td>i have been taking this med for about a week a...</td>\n",
       "      <td>2</td>\n",
       "      <td>...</td>\n",
       "      <td>dizziness lightheadedness tiredness headache m...</td>\n",
       "      <td>9</td>\n",
       "      <td>6</td>\n",
       "      <td>5</td>\n",
       "      <td>943</td>\n",
       "      <td>0</td>\n",
       "      <td>668</td>\n",
       "      <td>0.202778</td>\n",
       "      <td>Positive</td>\n",
       "      <td>0</td>\n",
       "    </tr>\n",
       "    <tr>\n",
       "      <th>1840</th>\n",
       "      <td>1840</td>\n",
       "      <td>55-64</td>\n",
       "      <td>High Blood Pressure</td>\n",
       "      <td>4/27/2011</td>\n",
       "      <td>lisinopril solution</td>\n",
       "      <td>6873</td>\n",
       "      <td>1</td>\n",
       "      <td>1</td>\n",
       "      <td>i used to take hctz for years with no problem ...</td>\n",
       "      <td>1</td>\n",
       "      <td>...</td>\n",
       "      <td>dizziness lightheadedness tiredness headache m...</td>\n",
       "      <td>11</td>\n",
       "      <td>9</td>\n",
       "      <td>8</td>\n",
       "      <td>943</td>\n",
       "      <td>0</td>\n",
       "      <td>668</td>\n",
       "      <td>0.016667</td>\n",
       "      <td>Positive</td>\n",
       "      <td>0</td>\n",
       "    </tr>\n",
       "    <tr>\n",
       "      <th>1841</th>\n",
       "      <td>1841</td>\n",
       "      <td>55-64</td>\n",
       "      <td>High Blood Pressure</td>\n",
       "      <td>4/24/2011</td>\n",
       "      <td>lisinopril solution</td>\n",
       "      <td>6873</td>\n",
       "      <td>5</td>\n",
       "      <td>3</td>\n",
       "      <td>dry cough causing difficulty sleeping and havi...</td>\n",
       "      <td>1</td>\n",
       "      <td>...</td>\n",
       "      <td>dizziness lightheadedness tiredness headache m...</td>\n",
       "      <td>10</td>\n",
       "      <td>9</td>\n",
       "      <td>8</td>\n",
       "      <td>943</td>\n",
       "      <td>0</td>\n",
       "      <td>668</td>\n",
       "      <td>0.029167</td>\n",
       "      <td>Positive</td>\n",
       "      <td>0</td>\n",
       "    </tr>\n",
       "    <tr>\n",
       "      <th>1842</th>\n",
       "      <td>1842</td>\n",
       "      <td>45-54</td>\n",
       "      <td>High Blood Pressure</td>\n",
       "      <td>4/24/2011</td>\n",
       "      <td>lisinopril solution</td>\n",
       "      <td>6873</td>\n",
       "      <td>2</td>\n",
       "      <td>3</td>\n",
       "      <td>i started this drug six days ago for high bloo...</td>\n",
       "      <td>3</td>\n",
       "      <td>...</td>\n",
       "      <td>dizziness lightheadedness tiredness headache m...</td>\n",
       "      <td>5</td>\n",
       "      <td>8</td>\n",
       "      <td>7</td>\n",
       "      <td>943</td>\n",
       "      <td>0</td>\n",
       "      <td>668</td>\n",
       "      <td>0.160000</td>\n",
       "      <td>Positive</td>\n",
       "      <td>0</td>\n",
       "    </tr>\n",
       "  </tbody>\n",
       "</table>\n",
       "<p>1843 rows × 21 columns</p>\n",
       "</div>"
      ],
      "text/plain": [
       "      index         Age            Condition       Date                 Drug  \\\n",
       "0         0  75 or over  High Blood Pressure   2/8/2020  lisinopril solution   \n",
       "1         1       55-64  High Blood Pressure  8/16/2019  lisinopril solution   \n",
       "2         2       25-34  High Blood Pressure   6/3/2019  lisinopril solution   \n",
       "3         3       35-44                Other   6/2/2019  lisinopril solution   \n",
       "4         4       65-74  High Blood Pressure   5/6/2019  lisinopril solution   \n",
       "...     ...         ...                  ...        ...                  ...   \n",
       "1838   1838       35-44  High Blood Pressure   5/2/2011  lisinopril solution   \n",
       "1839   1839       25-34  High Blood Pressure   5/1/2011  lisinopril solution   \n",
       "1840   1840       55-64  High Blood Pressure  4/27/2011  lisinopril solution   \n",
       "1841   1841       55-64  High Blood Pressure  4/24/2011  lisinopril solution   \n",
       "1842   1842       45-54  High Blood Pressure  4/24/2011  lisinopril solution   \n",
       "\n",
       "      DrugId  EaseofUse  Effectiveness  \\\n",
       "0       6873          5              4   \n",
       "1       6873          3              1   \n",
       "2       6873          5              2   \n",
       "3       6873          5              5   \n",
       "4       6873          3              2   \n",
       "...      ...        ...            ...   \n",
       "1838    6873          5              4   \n",
       "1839    6873          5              3   \n",
       "1840    6873          1              1   \n",
       "1841    6873          5              3   \n",
       "1842    6873          2              3   \n",
       "\n",
       "                                                Reviews  Satisfaction  ...  \\\n",
       "0     i have developed a very itch rash on my body f...             4  ...   \n",
       "1     was on this medicine for about  months and hav...             1  ...   \n",
       "2     i was placed on a low dose of lisinopril after...             1  ...   \n",
       "3     no script or health insurance needed to place ...             5  ...   \n",
       "4                              i just started taking it             2  ...   \n",
       "...                                                 ...           ...  ...   \n",
       "1838  today is my  day on lisinopril  so far so good...             4  ...   \n",
       "1839  i have been taking this med for about a week a...             2  ...   \n",
       "1840  i used to take hctz for years with no problem ...             1  ...   \n",
       "1841  dry cough causing difficulty sleeping and havi...             1  ...   \n",
       "1842  i started this drug six days ago for high bloo...             3  ...   \n",
       "\n",
       "                                                  Sides UsefulCount  \\\n",
       "0     dizziness lightheadedness tiredness headache m...           3   \n",
       "1     dizziness lightheadedness tiredness headache m...          22   \n",
       "2     dizziness lightheadedness tiredness headache m...          37   \n",
       "3     dizziness lightheadedness tiredness headache m...          24   \n",
       "4     dizziness lightheadedness tiredness headache m...           4   \n",
       "...                                                 ...         ...   \n",
       "1838  dizziness lightheadedness tiredness headache m...           4   \n",
       "1839  dizziness lightheadedness tiredness headache m...           9   \n",
       "1840  dizziness lightheadedness tiredness headache m...          11   \n",
       "1841  dizziness lightheadedness tiredness headache m...          10   \n",
       "1842  dizziness lightheadedness tiredness headache m...           5   \n",
       "\n",
       "      Age_Group_number  age_n  DrugId_n  Sex_n  condition_n  sentiment  \\\n",
       "0                   11     10       943      0          668   0.043750   \n",
       "1                    9      8       943      0          668  -0.170000   \n",
       "2                    6      5       943      0          668  -0.043760   \n",
       "3                    7      6       943      0         1045   0.300000   \n",
       "4                   10      9       943      0          668   0.000000   \n",
       "...                ...    ...       ...    ...          ...        ...   \n",
       "1838                 7      6       943      0          668   0.250000   \n",
       "1839                 6      5       943      0          668   0.202778   \n",
       "1840                 9      8       943      0          668   0.016667   \n",
       "1841                 9      8       943      0          668   0.029167   \n",
       "1842                 8      7       943      0          668   0.160000   \n",
       "\n",
       "      Review_Sentiment Review_Score  \n",
       "0             Positive            0  \n",
       "1             Negative            1  \n",
       "2             Negative            1  \n",
       "3             Positive            0  \n",
       "4              Neutral            0  \n",
       "...                ...          ...  \n",
       "1838          Positive            0  \n",
       "1839          Positive            0  \n",
       "1840          Positive            0  \n",
       "1841          Positive            0  \n",
       "1842          Positive            0  \n",
       "\n",
       "[1843 rows x 21 columns]"
      ]
     },
     "execution_count": 75,
     "metadata": {},
     "output_type": "execute_result"
    }
   ],
   "source": [
    "df.reset_index()"
   ]
  },
  {
   "cell_type": "code",
   "execution_count": 76,
   "metadata": {},
   "outputs": [],
   "source": [
    "X_train, X_test, y_train, y_test = train_test_split(X_var, y_var, test_size = 0.3, random_state = 43)"
   ]
  },
  {
   "cell_type": "markdown",
   "metadata": {},
   "source": [
    "Samples"
   ]
  },
  {
   "cell_type": "code",
   "execution_count": 77,
   "metadata": {},
   "outputs": [
    {
     "name": "stdout",
     "output_type": "stream",
     "text": [
      "\u001b[1mX variable samples : [[ 5  4  4  0 11]\n",
      " [ 3  1  1  0  9]\n",
      " [ 5  2  1  0  6]\n",
      " [ 5  5  5  0  7]\n",
      " [ 3  2  2  0 10]]\u001b[0m\n",
      "\u001b[1mY variable samples : [0 1 1 0 0]\u001b[0m\n"
     ]
    }
   ],
   "source": [
    "print(cl('X variable samples : {}'.format(X_var[:5]), attrs = ['bold']))\n",
    "print(cl('Y variable samples : {}'.format(y_var[:5]), attrs = ['bold']))"
   ]
  },
  {
   "cell_type": "code",
   "execution_count": 78,
   "metadata": {},
   "outputs": [
    {
     "data": {
      "text/plain": [
       "LogisticRegression()"
      ]
     },
     "execution_count": 78,
     "metadata": {},
     "output_type": "execute_result"
    }
   ],
   "source": [
    "logModel.fit(X_train, y_train)"
   ]
  },
  {
   "cell_type": "code",
   "execution_count": 79,
   "metadata": {},
   "outputs": [
    {
     "data": {
      "text/plain": [
       "0.5782945736434109"
      ]
     },
     "execution_count": 79,
     "metadata": {},
     "output_type": "execute_result"
    }
   ],
   "source": [
    "logModel.score(X_train, y_train)"
   ]
  },
  {
   "cell_type": "code",
   "execution_count": 80,
   "metadata": {},
   "outputs": [
    {
     "data": {
      "text/plain": [
       "0.5768535262206148"
      ]
     },
     "execution_count": 80,
     "metadata": {},
     "output_type": "execute_result"
    }
   ],
   "source": [
    "logModel.score(X_test,y_test)"
   ]
  },
  {
   "cell_type": "code",
   "execution_count": 81,
   "metadata": {},
   "outputs": [
    {
     "data": {
      "text/plain": [
       "array([[ 0.00639378,  0.02338568, -0.32268264,  0.        , -0.00863536]])"
      ]
     },
     "execution_count": 81,
     "metadata": {},
     "output_type": "execute_result"
    }
   ],
   "source": [
    "logModel.coef_"
   ]
  },
  {
   "cell_type": "code",
   "execution_count": 82,
   "metadata": {},
   "outputs": [
    {
     "data": {
      "text/plain": [
       "array([0.47388002])"
      ]
     },
     "execution_count": 82,
     "metadata": {},
     "output_type": "execute_result"
    }
   ],
   "source": [
    "logModel.intercept_"
   ]
  },
  {
   "cell_type": "markdown",
   "metadata": {},
   "source": [
    "# Making Prediction"
   ]
  },
  {
   "cell_type": "code",
   "execution_count": 83,
   "metadata": {},
   "outputs": [],
   "source": [
    "predictions = logModel.predict(X_test)"
   ]
  },
  {
   "cell_type": "code",
   "execution_count": 84,
   "metadata": {},
   "outputs": [],
   "source": [
    "cm=confusion_matrix(y_test,predictions)"
   ]
  },
  {
   "cell_type": "code",
   "execution_count": 85,
   "metadata": {},
   "outputs": [
    {
     "data": {
      "text/plain": [
       "array([[162, 141],\n",
       "       [ 93, 157]], dtype=int64)"
      ]
     },
     "execution_count": 85,
     "metadata": {},
     "output_type": "execute_result"
    }
   ],
   "source": [
    "confusion_matrix(y_test,predictions)"
   ]
  },
  {
   "cell_type": "markdown",
   "metadata": {},
   "source": [
    "**Displaying the Confusion Matrix**"
   ]
  },
  {
   "cell_type": "code",
   "execution_count": 86,
   "metadata": {},
   "outputs": [
    {
     "data": {
      "image/png": "[encoded data removed]",
      "text/plain": [
       "<Figure size 432x288 with 1 Axes>"
      ]
     },
     "metadata": {},
     "output_type": "display_data"
    }
   ],
   "source": [
    "plt.clf()\n",
    "plt.imshow(cm, interpolation='nearest', cmap=plt.cm.rainbow)\n",
    "classNames = ['Negative','Positive']\n",
    "plt.title('Confusion Matrix')\n",
    "plt.ylabel('True label')\n",
    "plt.xlabel('Predicted label')\n",
    "tick_marks = np.arange(len(classNames))\n",
    "plt.xticks(tick_marks, classNames, rotation=45)\n",
    "plt.yticks(tick_marks, classNames)\n",
    "s = [['TN','FP'], ['FN', 'TP']]\n",
    "for i in range(2):\n",
    "    for j in range(2):\n",
    "        plt.text(j,i, str(s[i][j])+\" = \"+str(cm[i][j]))\n",
    "plt.show()"
   ]
  },
  {
   "cell_type": "code",
   "execution_count": 87,
   "metadata": {},
   "outputs": [
    {
     "data": {
      "text/plain": [
       "<AxesSubplot:>"
      ]
     },
     "execution_count": 87,
     "metadata": {},
     "output_type": "execute_result"
    },
    {
     "data": {
      "image/png": "[encoded data removed]",
      "text/plain": [
       "<Figure size 432x288 with 2 Axes>"
      ]
     },
     "metadata": {},
     "output_type": "display_data"
    }
   ],
   "source": [
    "sns.heatmap(cm, annot = True, fmt = 'd')"
   ]
  },
  {
   "cell_type": "code",
   "execution_count": 88,
   "metadata": {},
   "outputs": [
    {
     "name": "stdout",
     "output_type": "stream",
     "text": [
      "              precision    recall  f1-score   support\n",
      "\n",
      "           0       0.64      0.53      0.58       303\n",
      "           1       0.53      0.63      0.57       250\n",
      "\n",
      "    accuracy                           0.58       553\n",
      "   macro avg       0.58      0.58      0.58       553\n",
      "weighted avg       0.59      0.58      0.58       553\n",
      "\n"
     ]
    }
   ],
   "source": [
    "from sklearn.metrics import classification_report\n",
    "print(classification_report(y_test, predictions))"
   ]
  },
  {
   "cell_type": "markdown",
   "metadata": {},
   "source": [
    "# Conclusion"
   ]
  },
  {
   "cell_type": "markdown",
   "metadata": {},
   "source": [
    "Lets understand the above confusion matrix as per the logistic regression algorithm<br><br>\n",
    "As we can see the values :-<br><br>\n",
    "**TN (True Negative)** = [162] - It indicates the number of patient who had no side effects and were correctly identified by the model also.<br>\n",
    "**FP (False Positive)** = [141] - It indicates the number of patient that did not had any side effect but our algorithm detected them as patients who had side effects.<br>\n",
    "**FN (False Negative)** = [93] - It indicates the number of patient that had side effect but the model detected them as patients who did not  had any side effect.<br>\n",
    "**TP (True positive)** = [157] - It indicates the number of patients who had side effect and were correctly identified by the model also.<br>\n",
    "\n",
    "**Precision** - (What proportion of patient had side effect was actually correct?) = 0.53<br>\n",
    "**Recall** - (What proportion of actual patient who had side effect was identified correctly?) = 0.63<br>"
   ]
  }
 ],
 "metadata": {
  "kernelspec": {
   "display_name": "Python 3",
   "language": "python",
   "name": "python3"
  },
  "language_info": {
   "codemirror_mode": {
    "name": "ipython",
    "version": 3
   },
   "file_extension": ".py",
   "mimetype": "text/x-python",
   "name": "python",
   "nbconvert_exporter": "python",
   "pygments_lexer": "ipython3",
   "version": "3.8.5"
  }
 },
 "nbformat": 4,
 "nbformat_minor": 4
}
